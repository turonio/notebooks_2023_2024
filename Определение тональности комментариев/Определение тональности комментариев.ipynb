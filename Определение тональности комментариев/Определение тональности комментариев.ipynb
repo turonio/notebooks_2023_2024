{
 "cells": [
  {
   "cell_type": "markdown",
   "id": "c8db1634-073b-488d-9d6e-f676f2b77c1f",
   "metadata": {
    "id": "c8db1634-073b-488d-9d6e-f676f2b77c1f"
   },
   "source": [
    "# Определение тональности комментариев\n",
    "\n",
    "## Описание исследования\n",
    "Интернет-магазин «Викишоп» запускает новый сервис. Теперь пользователи могут редактировать и дополнять описания товаров, как в вики-сообществах. То есть клиенты предлагают свои правки и комментируют изменения других. Магазину нужен инструмент, который будет искать токсичные комментарии и отправлять их на модерацию.\n",
    "\n",
    "## Цель исследования\n",
    "Построить модель для классификации комментариев на позитивные и негативные.\n",
    "\n",
    "## Задачи исследования\n",
    "Построить модель со значением метрики качества $F1$ не меньше 0.75.\n",
    "\n",
    "## Исходные данные\n",
    "Набор данных с разметкой о токсичности правок.\n",
    "\n",
    "## План исследования\n",
    "\n",
    "***[Часть 1. Загрузка данных](#dataloading)***\n",
    "\n",
    "***[Часть 2. Предобработка данных](#datapreprocessing)***\n",
    "\n",
    "***[Часть 3. Обучение моделей:](#ml)***\n",
    "* [1. Языковые представления при помощи BERT](#ml)\n",
    "* * [1.1. Подготовка данных](#prep)\n",
    "  * [1.2. Обучение модели](#learn)\n",
    "* [2. TF-IDF](#tf-idf)\n",
    "\n",
    "***[Часть 4. Вывод](#summary)***"
   ]
  },
  {
   "cell_type": "markdown",
   "id": "f602e761-db29-47fb-9921-a349253664c6",
   "metadata": {
    "id": "f602e761-db29-47fb-9921-a349253664c6"
   },
   "source": [
    "<a id='dataloading'></a>\n",
    "## Загрузка данных\n",
    "Импортирование нужных библиотек"
   ]
  },
  {
   "cell_type": "code",
   "execution_count": 25,
   "id": "b6c06c95-4874-4474-b58c-648915cfcde2",
   "metadata": {
    "colab": {
     "base_uri": "https://localhost:8080/"
    },
    "id": "b6c06c95-4874-4474-b58c-648915cfcde2",
    "outputId": "5d2b77cd-fc3c-4419-daf6-3715761e63f4"
   },
   "outputs": [],
   "source": [
    "!pip install torch -q\n",
    "!pip install lightgbm -q\n",
    "!pip install transformers -q\n",
    "!pip install tqdm -q\n",
    "!pip install nltk -q\n",
    "\n",
    "import pandas as pd\n",
    "import numpy as np\n",
    "import matplotlib.pyplot as plt\n",
    "import torch\n",
    "import transformers\n",
    "from tqdm import notebook\n",
    "import warnings\n",
    "warnings.simplefilter(\"ignore\")\n",
    "\n",
    "import re\n",
    "import nltk\n",
    "from nltk.corpus import wordnet\n",
    "from nltk.stem import WordNetLemmatizer\n",
    "from nltk.tokenize import word_tokenize\n",
    "\n",
    "from sklearn.feature_extraction.text import TfidfVectorizer\n",
    "from sklearn.linear_model import LogisticRegression, SGDClassifier\n",
    "from sklearn.model_selection import train_test_split\n",
    "from sklearn.metrics import f1_score\n",
    "\n",
    "%matplotlib inline\n",
    "plt.style.use('seaborn-v0_8-darkgrid')\n",
    "plt.rc('figure', autolayout=True)\n",
    "plt.rc('axes', titlesize=16, titlepad=10)"
   ]
  },
  {
   "cell_type": "markdown",
   "id": "eb6e4b6f-74f5-4d1c-ad58-e31743cfb8dc",
   "metadata": {
    "id": "eb6e4b6f-74f5-4d1c-ad58-e31743cfb8dc"
   },
   "source": [
    "Загрузка датасетa"
   ]
  },
  {
   "cell_type": "code",
   "execution_count": 4,
   "id": "2c83b278-5923-4369-bc76-a567a3824a71",
   "metadata": {
    "id": "2c83b278-5923-4369-bc76-a567a3824a71"
   },
   "outputs": [],
   "source": [
    "try:\n",
    "    toxic_comments = pd.read_csv('~/datasets/toxic_comments.csv', index_col=0)\n",
    "except:\n",
    "    toxic_comments = pd.read_csv('__private_data__', index_col=0)"
   ]
  },
  {
   "cell_type": "markdown",
   "id": "cb757916-a42a-492b-9158-fe2277c757d9",
   "metadata": {
    "id": "cb757916-a42a-492b-9158-fe2277c757d9"
   },
   "source": [
    "Выведем первые 5 строк датафрейма"
   ]
  },
  {
   "cell_type": "code",
   "execution_count": 8,
   "id": "a701c635-10c7-40be-b450-5deb489631f9",
   "metadata": {
    "colab": {
     "base_uri": "https://localhost:8080/",
     "height": 204
    },
    "id": "a701c635-10c7-40be-b450-5deb489631f9",
    "outputId": "f7185adc-8f7b-4b88-d1d9-cde28657c195"
   },
   "outputs": [
    {
     "data": {
      "text/html": [
       "<div>\n",
       "<style scoped>\n",
       "    .dataframe tbody tr th:only-of-type {\n",
       "        vertical-align: middle;\n",
       "    }\n",
       "\n",
       "    .dataframe tbody tr th {\n",
       "        vertical-align: top;\n",
       "    }\n",
       "\n",
       "    .dataframe thead th {\n",
       "        text-align: right;\n",
       "    }\n",
       "</style>\n",
       "<table border=\"1\" class=\"dataframe\">\n",
       "  <thead>\n",
       "    <tr style=\"text-align: right;\">\n",
       "      <th></th>\n",
       "      <th>text</th>\n",
       "      <th>toxic</th>\n",
       "    </tr>\n",
       "  </thead>\n",
       "  <tbody>\n",
       "    <tr>\n",
       "      <th>0</th>\n",
       "      <td>Explanation\\nWhy the edits made under my usern...</td>\n",
       "      <td>0</td>\n",
       "    </tr>\n",
       "    <tr>\n",
       "      <th>1</th>\n",
       "      <td>D'aww! He matches this background colour I'm s...</td>\n",
       "      <td>0</td>\n",
       "    </tr>\n",
       "    <tr>\n",
       "      <th>2</th>\n",
       "      <td>Hey man, I'm really not trying to edit war. It...</td>\n",
       "      <td>0</td>\n",
       "    </tr>\n",
       "    <tr>\n",
       "      <th>3</th>\n",
       "      <td>\"\\nMore\\nI can't make any real suggestions on ...</td>\n",
       "      <td>0</td>\n",
       "    </tr>\n",
       "    <tr>\n",
       "      <th>4</th>\n",
       "      <td>You, sir, are my hero. Any chance you remember...</td>\n",
       "      <td>0</td>\n",
       "    </tr>\n",
       "  </tbody>\n",
       "</table>\n",
       "</div>"
      ],
      "text/plain": [
       "                                                text  toxic\n",
       "0  Explanation\\nWhy the edits made under my usern...      0\n",
       "1  D'aww! He matches this background colour I'm s...      0\n",
       "2  Hey man, I'm really not trying to edit war. It...      0\n",
       "3  \"\\nMore\\nI can't make any real suggestions on ...      0\n",
       "4  You, sir, are my hero. Any chance you remember...      0"
      ]
     },
     "execution_count": 8,
     "metadata": {},
     "output_type": "execute_result"
    }
   ],
   "source": [
    "toxic_comments.head()"
   ]
  },
  {
   "cell_type": "markdown",
   "id": "80ce0f5b-5382-4e7e-8395-9d2c2235d4a1",
   "metadata": {
    "id": "80ce0f5b-5382-4e7e-8395-9d2c2235d4a1"
   },
   "source": [
    "Данные загрузились и выводятся правильно, приступим к предобработке данных."
   ]
  },
  {
   "cell_type": "markdown",
   "id": "2e57296a-48ec-48a4-a6f6-c44447db1c44",
   "metadata": {
    "id": "2e57296a-48ec-48a4-a6f6-c44447db1c44"
   },
   "source": [
    "<a id='datapreprocessing'></a>\n",
    "## Предобработка данных\n",
    "Выведем основную информацию"
   ]
  },
  {
   "cell_type": "code",
   "execution_count": 12,
   "id": "ac866f90-f976-44bd-8e5d-fbc2d77bdfcc",
   "metadata": {
    "colab": {
     "base_uri": "https://localhost:8080/"
    },
    "id": "ac866f90-f976-44bd-8e5d-fbc2d77bdfcc",
    "outputId": "a55a84ac-8bc8-4692-8f4f-9b7fa66a9c7e"
   },
   "outputs": [
    {
     "name": "stdout",
     "output_type": "stream",
     "text": [
      "<class 'pandas.core.frame.DataFrame'>\n",
      "Index: 159292 entries, 0 to 159450\n",
      "Data columns (total 2 columns):\n",
      " #   Column  Non-Null Count   Dtype \n",
      "---  ------  --------------   ----- \n",
      " 0   text    159292 non-null  object\n",
      " 1   toxic   159292 non-null  int64 \n",
      "dtypes: int64(1), object(1)\n",
      "memory usage: 3.6+ MB\n"
     ]
    }
   ],
   "source": [
    "toxic_comments.info()"
   ]
  },
  {
   "cell_type": "markdown",
   "id": "4fe2c7e7-ced1-4a00-a004-24ddbd94b595",
   "metadata": {
    "id": "4fe2c7e7-ced1-4a00-a004-24ddbd94b595"
   },
   "source": [
    "Пропусков нет, тональность определена для каждого комментария в датасете.\n",
    "\n",
    "Проверим, есть ли дубликаты."
   ]
  },
  {
   "cell_type": "code",
   "execution_count": 15,
   "id": "796d1906-0cc7-47bb-b4e6-736540e50d00",
   "metadata": {
    "colab": {
     "base_uri": "https://localhost:8080/"
    },
    "id": "796d1906-0cc7-47bb-b4e6-736540e50d00",
    "outputId": "29f82d12-dfea-469f-d5a8-3b0e6aa747eb"
   },
   "outputs": [
    {
     "name": "stdout",
     "output_type": "stream",
     "text": [
      "Число полных дубликатов: 0\n",
      "Число дубликатов комментариев: 0\n"
     ]
    }
   ],
   "source": [
    "print('Число полных дубликатов:', toxic_comments.duplicated().sum())\n",
    "print('Число дубликатов комментариев:', toxic_comments['text'].duplicated().sum())"
   ]
  },
  {
   "cell_type": "markdown",
   "id": "d046f278-a9df-4dc2-ac35-f01fd97c45a8",
   "metadata": {
    "id": "d046f278-a9df-4dc2-ac35-f01fd97c45a8"
   },
   "source": [
    "Дубликатов нет. Проверим, есть ли лишние значения в столбце `toxic`."
   ]
  },
  {
   "cell_type": "code",
   "execution_count": 18,
   "id": "bfd6e81b-059d-4cb9-90e9-b40db836ff06",
   "metadata": {
    "colab": {
     "base_uri": "https://localhost:8080/"
    },
    "id": "bfd6e81b-059d-4cb9-90e9-b40db836ff06",
    "outputId": "91971976-5dc2-4799-9f36-3011d5e33508"
   },
   "outputs": [
    {
     "name": "stdout",
     "output_type": "stream",
     "text": [
      "Уникальные значения целевого признака: [0, 1]\n"
     ]
    }
   ],
   "source": [
    "print(f'Уникальные значения целевого признака: {list(toxic_comments[\"toxic\"].unique())}')"
   ]
  },
  {
   "cell_type": "markdown",
   "id": "77cf73d1-107b-4f6c-b8dd-73920651913a",
   "metadata": {
    "id": "77cf73d1-107b-4f6c-b8dd-73920651913a"
   },
   "source": [
    "Неожиданных значений нет.\n",
    "\n",
    "Посмотрим на отношение классов в датафрейме."
   ]
  },
  {
   "cell_type": "code",
   "execution_count": 21,
   "id": "bd262a66-e8a1-4ac7-8216-0eda2ad148e0",
   "metadata": {
    "colab": {
     "base_uri": "https://localhost:8080/",
     "height": 407
    },
    "id": "bd262a66-e8a1-4ac7-8216-0eda2ad148e0",
    "outputId": "07491c95-e6db-4c35-8bfd-6aad6394fb02"
   },
   "outputs": [
    {
     "data": {
      "image/png": "[encoded data removed]",
      "text/plain": [
       "<Figure size 1200x400 with 1 Axes>"
      ]
     },
     "metadata": {},
     "output_type": "display_data"
    }
   ],
   "source": [
    "fig, ax = plt.subplots(figsize=(12, 4), subplot_kw=dict(aspect=\"equal\"))\n",
    "\n",
    "data = toxic_comments['toxic'].value_counts()\n",
    "tone = ['Позитивный', 'Негативный']\n",
    "\n",
    "wedges, texts, autotexts = ax.pie(data, autopct=lambda pct: f\"{pct:.1f}%\\n({int(np.round(pct/100.*np.sum(data))):d})\",\n",
    "                                  textprops=dict(color=\"w\"), wedgeprops=dict(width=0.7))\n",
    "\n",
    "ax.legend(wedges, tone,\n",
    "          title=\"Тональность\",\n",
    "          loc=\"center left\",\n",
    "          bbox_to_anchor=(1, 0, 0.5, 1),\n",
    "          fontsize=10,\n",
    "          title_fontsize=12)\n",
    "\n",
    "plt.setp(autotexts, size=10, weight=\"bold\")\n",
    "\n",
    "ax.set_title(\"Отношение комментриев\", pad=0);"
   ]
  },
  {
   "cell_type": "markdown",
   "id": "5864f7c6-4a72-4bcb-8e33-4a1ebfa0e124",
   "metadata": {
    "id": "5864f7c6-4a72-4bcb-8e33-4a1ebfa0e124"
   },
   "source": [
    "Заметен дисбаланс классов, при делении данных на выборки это стоит учесть.\n",
    "\n",
    "Можем приступить к обучению моделей."
   ]
  },
  {
   "cell_type": "markdown",
   "id": "645121ea-2c30-4fc0-a63d-e8d241cb2a35",
   "metadata": {
    "id": "645121ea-2c30-4fc0-a63d-e8d241cb2a35"
   },
   "source": [
    "<a id='ml'></a>\n",
    "## Обучение моделей\n",
    "### Языковые представления при помощи BERT"
   ]
  },
  {
   "cell_type": "markdown",
   "id": "9a52d4c7-04f6-443b-8897-895f103625da",
   "metadata": {
    "id": "9a52d4c7-04f6-443b-8897-895f103625da"
   },
   "source": [
    "<a id='prep'></a>\n",
    "#### Подготовка данных"
   ]
  },
  {
   "cell_type": "markdown",
   "id": "581d5302-d8f5-4776-85a7-5f8b2a732de0",
   "metadata": {
    "id": "581d5302-d8f5-4776-85a7-5f8b2a732de0"
   },
   "source": [
    "Для классификации построим векторные представления комментариев при помощи BERT."
   ]
  },
  {
   "cell_type": "code",
   "execution_count": null,
   "id": "5142da9e-b936-4b5f-afab-0ab8d6aeaf5b",
   "metadata": {
    "colab": {
     "base_uri": "https://localhost:8080/",
     "height": 145,
     "referenced_widgets": [
      "8ca89f05b49e4bf6a9d69928444908d4",
      "07322811af0143989b8414c6ec937e22",
      "ca79cd99b3bf44ce9fac036980526f0f",
      "0154a40e13174385b8b447ffd3483b35",
      "b2275417fb8b4ddd86a4af5b82636f2e",
      "53cbe59bb82747beb9a3100f4b8fffee",
      "c219d07f88bb48f88e9fc060c7aaa223",
      "85f7963351d340d09965232f83f7e389",
      "968fec9bdfbe4e98ab465c905d349056",
      "671eed6d434e4dd19130b6f05bbd26a8",
      "bc33ac4b135f444b93fdd34cab0dea9a",
      "f4e0101effb342d6acc4185a366c037b",
      "c706922815bb4a0ea5a6407e7c9ce7eb",
      "794aa7537bb442c5912d8899e8a182fc",
      "2e2f024815fe490e80b239423db2ce32",
      "5fd7dfb22f234c59b4b712fdab37078a",
      "ca27fdab165c466ea1bf173729c2efca",
      "658fab08656a443b8bddf3452d4777b1",
      "d6ac0af609094964be55cb0269272ef2",
      "9e0e0ddd3bb143258451826499e90c53",
      "f5f13e4079b94c279f3ddb738759d29e",
      "87341ef9808544619936d1d75e761215",
      "520a36abd9c64265b438b21e0e7e0502",
      "2e38d5edc31c4257a2ba68bdd7c7ccc1",
      "d1203fb2e28648a1bbdf4119e41047fa",
      "c8540f3996a745fba185a25e92c48517",
      "6780ce45051940969010a8c4e3ef0f11",
      "f48bb1c6d55e4c61809934fc75ed25d4",
      "a763af0dfae644d1a6de24ea1f13e247",
      "26a94381744f4a8eb607c6c2a2e4b9a5",
      "b2010f3e127142639f8f01a61d6f558d",
      "5ea3873f62b34aeda9b5085cf56b6135",
      "5acd161c998e450f861461eafd6361a1",
      "312d79bd2fb04bfe88de67def4d6e55e",
      "3b428ca18e344bc5b20a9040763a590c",
      "09576660e2824f6195cbab0332488af0",
      "e339687df4c8499c95a947624d93dffd",
      "bb8aef088d7b49229129d56a1a7dbb6f",
      "f278f5ab1e5c4d718cba6fb9c23f18c6",
      "d6806837890a447e8eb33d85b8e47dd6",
      "ac903b515d554c21b22d5450b90a2861",
      "f7224608aaff47118fc1e61fb6a0a275",
      "162675dd01aa449e83b80616c4ca8aeb",
      "b8cddf8f4a4c4999aa8a31250dc2ad71"
     ]
    },
    "id": "5142da9e-b936-4b5f-afab-0ab8d6aeaf5b",
    "outputId": "4ec20ae2-dd05-4cf7-ef15-219e544c7fa2",
    "scrolled": true
   },
   "outputs": [],
   "source": [
    "tokenizer = transformers.BertTokenizer.from_pretrained('bert-base-uncased')\n",
    "tokenized = toxic_comments['text'].apply(lambda x: tokenizer.encode(x, add_special_tokens=True, truncation=True, max_length=512))"
   ]
  },
  {
   "cell_type": "code",
   "execution_count": 11,
   "id": "12f6c096-9588-4ca9-af27-4094bb5b97dd",
   "metadata": {
    "id": "12f6c096-9588-4ca9-af27-4094bb5b97dd"
   },
   "outputs": [],
   "source": [
    "max_len = tokenized.apply(lambda x: len(x)).max()\n",
    "padded = np.array([i + [0]*(max_len - len(i)) for i in tokenized.values])\n",
    "attention_mask = np.where(padded != 0, 1, 0)"
   ]
  },
  {
   "cell_type": "code",
   "execution_count": 12,
   "id": "68d4be18-d7cc-4bb0-845b-1e85b8ea3b27",
   "metadata": {
    "colab": {
     "base_uri": "https://localhost:8080/",
     "height": 49,
     "referenced_widgets": [
      "6725dcaa83aa43ac971ea98e1996f7e0",
      "59490fd7a4424054b07611360e8409b4",
      "e7f1b94584114327ac386f33ebf73420",
      "37ba7c87c42a4b6f8168b01fbdcdcea9",
      "183d069c157a4f6590d95b4d767d06fe",
      "ea162845d0c348b4a51580d604a44075",
      "ef6125570df8442187cfd11d2e6d60da",
      "ebbced99bb3c49c38a6896a6d84fb498",
      "38d50f5fa43741bfabfb43cfb802a700",
      "05e17f303bac4df284d94552b4df38d4",
      "f81f820f6a3b48f5a75a2ff42edd316a"
     ]
    },
    "id": "68d4be18-d7cc-4bb0-845b-1e85b8ea3b27",
    "outputId": "bafc05f2-3d32-435e-a1d8-1dab624d1236"
   },
   "outputs": [
    {
     "data": {
      "application/vnd.jupyter.widget-view+json": {
       "model_id": "6725dcaa83aa43ac971ea98e1996f7e0",
       "version_major": 2,
       "version_minor": 0
      },
      "text/plain": [
       "model.safetensors:   0%|          | 0.00/440M [00:00<?, ?B/s]"
      ]
     },
     "metadata": {},
     "output_type": "display_data"
    }
   ],
   "source": [
    "device = torch.device(\"cuda\" if torch.cuda.is_available() else \"cpu\")\n",
    "\n",
    "model = transformers.BertModel.from_pretrained('bert-base-uncased')\n",
    "model.to(device);"
   ]
  },
  {
   "cell_type": "code",
   "execution_count": 15,
   "id": "45b66754-096a-4f86-89e8-eb0bbba5bfa1",
   "metadata": {
    "colab": {
     "base_uri": "https://localhost:8080/",
     "height": 49,
     "referenced_widgets": [
      "2cfc1ba78ac040f39d3347f38f7dd38b",
      "03888af3132643a7927db2ba7a07bb56",
      "fe73479c227f4553b008390f6cc819f0",
      "b7ba908c2de14d748c08bf845e7caae1",
      "90e45cd0e7094f059e7f300e16e9476e",
      "bc4e9caaafb84d6086f9ef3967a6c807",
      "7944f309e1ca415cbecc62e1958e9f65",
      "923a14ddce934d3996953d26fde901d0",
      "7fd2ec6f4ff14ca790e6406631c676be",
      "1b01c9f51f34432dab99dc45042b9dc9",
      "f8155d4a329348ed9f281bc80b12cc14"
     ]
    },
    "id": "45b66754-096a-4f86-89e8-eb0bbba5bfa1",
    "outputId": "aa59c8e1-31fe-4aef-bfb8-d4f7969d4377"
   },
   "outputs": [
    {
     "data": {
      "application/vnd.jupyter.widget-view+json": {
       "model_id": "2cfc1ba78ac040f39d3347f38f7dd38b",
       "version_major": 2,
       "version_minor": 0
      },
      "text/plain": [
       "  0%|          | 0/1592 [00:00<?, ?it/s]"
      ]
     },
     "metadata": {},
     "output_type": "display_data"
    }
   ],
   "source": [
    "batch_size = 100\n",
    "embeddings = []\n",
    "for i in notebook.tqdm(range(padded.shape[0] // batch_size)):\n",
    "    batch = torch.tensor(padded[batch_size*i:batch_size*(i+1)], device=device)\n",
    "    attention_mask_batch = torch.tensor(attention_mask[batch_size*i:batch_size*(i+1)], device=device)\n",
    "    with torch.no_grad():\n",
    "        batch_embeddings = model(batch, attention_mask=attention_mask_batch)\n",
    "    embeddings.append(batch_embeddings[0][:,0,:].cpu().numpy())\n",
    "\n",
    "features = np.concatenate(embeddings)"
   ]
  },
  {
   "cell_type": "markdown",
   "id": "vHEzne5EsDIt",
   "metadata": {
    "id": "vHEzne5EsDIt"
   },
   "source": [
    "Сохраним полученные векторные представления для более удобной работы с ними в будущем."
   ]
  },
  {
   "cell_type": "code",
   "execution_count": 16,
   "id": "SeonYQmDsWwO",
   "metadata": {
    "id": "SeonYQmDsWwO"
   },
   "outputs": [],
   "source": [
    "np.save('toxic_embeddings.npy', features)"
   ]
  },
  {
   "cell_type": "code",
   "execution_count": 27,
   "id": "IajY2tM_8pqT",
   "metadata": {
    "colab": {
     "base_uri": "https://localhost:8080/"
    },
    "id": "IajY2tM_8pqT",
    "outputId": "60c05d7d-c092-47ae-bea8-40b80608da1d"
   },
   "outputs": [],
   "source": [
    "features = np.load('toxic_embeddings.npy') # загрузка векторных представлений"
   ]
  },
  {
   "cell_type": "markdown",
   "id": "629f2f0b-350a-4411-8672-1fdaf2caf60d",
   "metadata": {},
   "source": [
    "<a id='learn'></a>\n",
    "#### Обучение модели\n",
    "Разобьём данные на тренировочную, валидационную и тестовую выборки"
   ]
  },
  {
   "cell_type": "code",
   "execution_count": 31,
   "id": "988cd338-5b42-4898-a032-4da72640d9d1",
   "metadata": {
    "colab": {
     "base_uri": "https://localhost:8080/",
     "height": 350
    },
    "id": "604d8683-a699-45c7-b8a2-ba0b4df5f8d0",
    "outputId": "31c8dc81-7348-40b2-cd41-684418bcacc8"
   },
   "outputs": [
    {
     "name": "stdout",
     "output_type": "stream",
     "text": [
      "X_train shape: (128952, 768)\n",
      "y_train shape: (128952,)\n",
      "\n",
      "X_val shape: (14328, 768)\n",
      "y_val shape: (14328,)\n",
      "\n",
      "X_test shape: (15920, 768)\n",
      "y_test shape: (15920,)\n"
     ]
    }
   ],
   "source": [
    "target = toxic_comments['toxic'].iloc[:features.shape[0]]\n",
    "X, X_test, y, y_test = train_test_split(features, target, stratify=target, test_size=0.10, random_state=42)\n",
    "X_train, X_val, y_train, y_val = train_test_split(X, y, stratify=y, test_size=0.10, random_state=42)\n",
    "\n",
    "\n",
    "print('X_train shape:', X_train.shape)\n",
    "print('y_train shape:', y_train.shape, end='\\n\\n')\n",
    "print('X_val shape:', X_val.shape)\n",
    "print('y_val shape:', y_val.shape, end='\\n\\n')\n",
    "print('X_test shape:', X_test.shape)\n",
    "print('y_test shape:', y_test.shape)"
   ]
  },
  {
   "cell_type": "markdown",
   "id": "WcxSVnUis0vQ",
   "metadata": {
    "id": "WcxSVnUis0vQ"
   },
   "source": [
    "Обучим модель бинарной классификации."
   ]
  },
  {
   "cell_type": "code",
   "execution_count": 34,
   "id": "62cc09b6-e910-4e6d-b7f4-9ed0ec7c7aa7",
   "metadata": {},
   "outputs": [
    {
     "name": "stdout",
     "output_type": "stream",
     "text": [
      "F1: 0.7026439695762405\n"
     ]
    }
   ],
   "source": [
    "log_reg = SGDClassifier(random_state=42, penalty='l2', loss='log_loss')\n",
    "log_reg.fit(X_train, y_train)\n",
    "print(f'F1: {f1_score(y_test, log_reg.predict(X_test))}')"
   ]
  },
  {
   "cell_type": "markdown",
   "id": "e4a2f3e9-b800-4586-b9bc-658215b44605",
   "metadata": {},
   "source": [
    "Попробуем найти порог классификации, при котором $F1$ больше."
   ]
  },
  {
   "cell_type": "code",
   "execution_count": 36,
   "id": "e87e0568-ceff-46ef-b558-4f943576432f",
   "metadata": {},
   "outputs": [
    {
     "data": {
      "image/png": "[encoded data removed]",
      "text/plain": [
       "<Figure size 640x480 with 1 Axes>"
      ]
     },
     "metadata": {},
     "output_type": "display_data"
    }
   ],
   "source": [
    "thresholds = np.linspace(0, 1, 101)\n",
    "f1_scores = list()\n",
    "for threshold in thresholds:\n",
    "    f1_scores.append(f1_score(y_val, [1 if proba > threshold else 0 for proba in \\\n",
    "                                       log_reg.predict_proba(X_val)[:, 1]]))\n",
    "plt.plot(thresholds, f1_scores)\n",
    "plt.title('F1-score')\n",
    "plt.xlabel('Порог классификации', fontsize=14)\n",
    "plt.ylabel('F1', fontsize=14);"
   ]
  },
  {
   "cell_type": "code",
   "execution_count": 37,
   "id": "7042d80e-a083-4815-8a00-6351ff8ab014",
   "metadata": {},
   "outputs": [
    {
     "name": "stdout",
     "output_type": "stream",
     "text": [
      "F1: 73.385%\n"
     ]
    }
   ],
   "source": [
    "print(f'F1: {f1_score(y_test, [1 if i > 0.3 else 0 for i in log_reg.predict_proba(X_test)[:, 1]]):.3%}')"
   ]
  },
  {
   "cell_type": "markdown",
   "id": "e140fda7-2602-4889-b857-92d334d277dd",
   "metadata": {},
   "source": [
    "Метрика *F1* не достигает требуемых значений *(более 0.75)*. Попробуем улучшить показатели при помощи *TF-IDF*."
   ]
  },
  {
   "cell_type": "markdown",
   "id": "e238e42a-ea5e-45cb-b7f6-04acce6d6b4d",
   "metadata": {},
   "source": [
    "<a id='tf-idf'></a>\n",
    "### TF-IDF"
   ]
  },
  {
   "cell_type": "markdown",
   "id": "0edfb806-adfa-48eb-bfb5-02eff4d51bb2",
   "metadata": {},
   "source": [
    "Удалим лишние символы и лемматизируем комментарии."
   ]
  },
  {
   "cell_type": "code",
   "execution_count": 126,
   "id": "ce0d6dfe-5f02-4733-8f63-39619e4af461",
   "metadata": {},
   "outputs": [
    {
     "name": "stderr",
     "output_type": "stream",
     "text": [
      "[nltk_data] Downloading package punkt to\n",
      "[nltk_data]     /Users/valera_gorbachev/nltk_data...\n",
      "[nltk_data]   Package punkt is already up-to-date!\n",
      "[nltk_data] Downloading package wordnet to\n",
      "[nltk_data]     /Users/valera_gorbachev/nltk_data...\n",
      "[nltk_data]   Package wordnet is already up-to-date!\n",
      "[nltk_data] Downloading package averaged_perceptron_tagger to\n",
      "[nltk_data]     /Users/valera_gorbachev/nltk_data...\n",
      "[nltk_data]   Package averaged_perceptron_tagger is already up-to-\n",
      "[nltk_data]       date!\n"
     ]
    },
    {
     "data": {
      "text/plain": [
       "0         explanation why the edits make under my userna...\n",
       "1         d aww he match this background colour i m seem...\n",
       "2         hey man i m really not try to edit war it s ju...\n",
       "3         more i can t make any real suggestion on impro...\n",
       "4         you sir be my hero any chance you remember wha...\n",
       "                                ...                        \n",
       "159446    and for the second time of ask when your view ...\n",
       "159447    you should be ashamed of yourself that be a ho...\n",
       "159448    spitzer umm theres no actual article for prost...\n",
       "159449    and it look like it be actually you who put on...\n",
       "159450    and i really don t think you understand i come...\n",
       "Name: text, Length: 159292, dtype: object"
      ]
     },
     "execution_count": 126,
     "metadata": {},
     "output_type": "execute_result"
    }
   ],
   "source": [
    "nltk.download('punkt')\n",
    "nltk.download('wordnet')\n",
    "nltk.download('averaged_perceptron_tagger')\n",
    "\n",
    "def get_wordnet_pos(text):\n",
    "    \"\"\"Получение списка POS-тегов для всего текста\"\"\"\n",
    "    tags = [word[1][0].upper() for word in nltk.pos_tag(text)]\n",
    "    tag_dict = {\"J\": wordnet.ADJ,\n",
    "                \"N\": wordnet.NOUN,\n",
    "                \"V\": wordnet.VERB,\n",
    "                \"R\": wordnet.ADV}\n",
    "    return [tag_dict.get(tag, wordnet.NOUN) for tag in tags]\n",
    "\n",
    "lemmatizer = WordNetLemmatizer()\n",
    "def get_lemma(text):\n",
    "    text = ' '.join(re.sub(r\"[^a-zA-Z]\", ' ', text).split()).lower()\n",
    "    words = nltk.word_tokenize(text)\n",
    "    positions = get_wordnet_pos(words)\n",
    "    return ' '.join([lemmatizer.lemmatize(words[i], pos=positions[i]) for i in range(len(nltk.word_tokenize(text)))])\n",
    "\n",
    "features_tf_idf = toxic_comments['text'].apply(lambda x: get_lemma(x))\n",
    "features_tf_idf"
   ]
  },
  {
   "cell_type": "markdown",
   "id": "484e79fe-e00f-4698-b5bc-a3aba7c5b421",
   "metadata": {},
   "source": [
    "Разделим данные на тренировочную, валидационную и тестовую выборки."
   ]
  },
  {
   "cell_type": "code",
   "execution_count": 128,
   "id": "a33597dc-d214-4951-bb8d-f090562095be",
   "metadata": {},
   "outputs": [
    {
     "name": "stdout",
     "output_type": "stream",
     "text": [
      "X_train shape: (129025,)\n",
      "y_train shape: (129025,)\n",
      "\n",
      "X_val shape: (14337,)\n",
      "y_val shape: (14337,)\n",
      "\n",
      "X_test shape: (15930,)\n",
      "y_test shape: (15930,)\n"
     ]
    }
   ],
   "source": [
    "X_tf_idf, X_test_tf_idf, y_tf_idf, y_test_tf_idf = train_test_split(features_tf_idf, toxic_comments['toxic'], stratify=toxic_comments['toxic'], test_size=0.10, random_state=42)\n",
    "\n",
    "X_train_tf_idf, X_val_tf_idf, y_train_tf_idf, y_val_tf_idf = train_test_split(X_tf_idf, y_tf_idf, stratify=y_tf_idf, test_size=0.10, random_state=42)\n",
    "\n",
    "print('X_train shape:', X_train_tf_idf.shape)\n",
    "print('y_train shape:', y_train_tf_idf.shape, end='\\n\\n')\n",
    "print('X_val shape:', X_val_tf_idf.shape)\n",
    "print('y_val shape:', y_val_tf_idf.shape, end='\\n\\n')\n",
    "print('X_test shape:', X_test_tf_idf.shape)\n",
    "print('y_test shape:', y_test_tf_idf.shape)"
   ]
  },
  {
   "cell_type": "markdown",
   "id": "3a2f42bb-f934-4ed7-9994-733220c7816a",
   "metadata": {},
   "source": [
    "Cоздадим признаки для обучения"
   ]
  },
  {
   "cell_type": "code",
   "execution_count": 130,
   "id": "10ca50be-d9c8-4f17-af6a-392369b208f9",
   "metadata": {},
   "outputs": [],
   "source": [
    "count_tf_idf = TfidfVectorizer(stop_words='english')\n",
    "tf_idf_train = count_tf_idf.fit_transform(X_train_tf_idf)\n",
    "tf_idf_val = count_tf_idf.transform(X_val_tf_idf)\n",
    "tf_idf_test = count_tf_idf.transform(X_test_tf_idf)"
   ]
  },
  {
   "cell_type": "markdown",
   "id": "7fea449f-ef15-424e-bb3b-dc1b8f02e6fd",
   "metadata": {},
   "source": [
    "Обучим модель логистической регрессии и сделаем предсказание на тестовой выборке."
   ]
  },
  {
   "cell_type": "code",
   "execution_count": 134,
   "id": "ccf2cc42-3ea3-439d-aeee-a279145818b9",
   "metadata": {},
   "outputs": [
    {
     "name": "stdout",
     "output_type": "stream",
     "text": [
      "F1: 0.7782837127845884\n"
     ]
    }
   ],
   "source": [
    "log_reg_tf_idf = LogisticRegression(penalty='l1', solver='liblinear')\n",
    "log_reg_tf_idf.fit(tf_idf_train, y_train_tf_idf)\n",
    "print(f'F1: {f1_score(y_test_tf_idf, log_reg_tf_idf.predict(tf_idf_test))}')"
   ]
  },
  {
   "cell_type": "markdown",
   "id": "bc133686-fefd-40ad-bab7-b8ea8a2e5675",
   "metadata": {},
   "source": [
    "Требуемое значение $F1$ уже достигнуто. Изменим порог классификации для увеличения метрики."
   ]
  },
  {
   "cell_type": "code",
   "execution_count": 137,
   "id": "08fea092-fbd2-49ea-b408-e9aac3c143c9",
   "metadata": {},
   "outputs": [
    {
     "data": {
      "image/png": "[encoded data removed]",
      "text/plain": [
       "<Figure size 640x480 with 1 Axes>"
      ]
     },
     "metadata": {},
     "output_type": "display_data"
    }
   ],
   "source": [
    "thresholds = np.linspace(0, 1, 101)\n",
    "f1_scores = list()\n",
    "for threshold in thresholds:\n",
    "    f1_scores.append(f1_score(y_val_tf_idf, [1 if proba > threshold else 0 for proba in \\\n",
    "                                       log_reg_tf_idf.predict_proba(tf_idf_val)[:, 1]]))\n",
    "plt.plot(thresholds, f1_scores)\n",
    "plt.title('F1-score')\n",
    "plt.xlabel('Порог классификации', fontsize=14)\n",
    "plt.ylabel('F1', fontsize=14);"
   ]
  },
  {
   "cell_type": "code",
   "execution_count": 143,
   "id": "7b59c464-e15d-49f3-acd1-059dac318909",
   "metadata": {},
   "outputs": [
    {
     "name": "stdout",
     "output_type": "stream",
     "text": [
      "F1: 79.538%\n"
     ]
    }
   ],
   "source": [
    "print(f'F1: {f1_score(y_test_tf_idf, [1 if proba > 0.36 else 0 for proba in log_reg_tf_idf.predict_proba(tf_idf_test)[:, 1]]):.3%}')"
   ]
  },
  {
   "cell_type": "markdown",
   "id": "0e326182-f196-4a0f-82ee-c98de78c999e",
   "metadata": {},
   "source": [
    "На этот раз метрика нас устраивает. При этом обучение этой модели заняло значительно меньше времени, чем основанной на языковых представлениях."
   ]
  },
  {
   "cell_type": "markdown",
   "id": "d6bc6518-8055-43ef-bdd9-562e67d5cb7b",
   "metadata": {},
   "source": [
    "<a id='summary'></a>\n",
    "## Вывод"
   ]
  },
  {
   "cell_type": "markdown",
   "id": "c1a1f1be-abac-4781-99f9-1361b27d0913",
   "metadata": {},
   "source": [
    "В ходе исследования были построены две модели для предсказания токсичности комментариев:\n",
    "\n",
    "- Первая модель была обучена на эмбеддингах, построенных при помощи *BERT*\n",
    "- Вторая модель обучилась на *TF-IDF*\n",
    "\n",
    "Первая модель не смогла достигнуть нужного нам качества ($F1$ не менее 0.75), при этом создание эмбеддингов заняло значительное время.\n",
    "\n",
    "Вторая же модель удовлетворяет требованиям с $F1$ на тестовой выборке более 0.79. Помимо этого, создание признаков для обучения не потребовало много времени.\n",
    "\n",
    "Потенциально модель можно упростить ещё больше, например, убрав малозначащие признаки. $F1$ можно увеличить, настроив *TfidfVectorizer* и получив больше признаков, а также используя другие архитектуры моделей, при этом длительность обучения, скорее всего, увеличится."
   ]
  }
 ],
 "metadata": {
  "accelerator": "GPU",
  "colab": {
   "gpuType": "T4",
   "provenance": []
  },
  "kernelspec": {
   "display_name": "Python 3 (ipykernel)",
   "language": "python",
   "name": "python3"
  },
  "language_info": {
   "codemirror_mode": {
    "name": "ipython",
    "version": 3
   },
   "file_extension": ".py",
   "mimetype": "text/x-python",
   "name": "python",
   "nbconvert_exporter": "python",
   "pygments_lexer": "ipython3",
   "version": "3.12.4"
  },
  "toc": {
   "base_numbering": 1,
   "nav_menu": {},
   "number_sections": true,
   "sideBar": true,
   "skip_h1_title": true,
   "title_cell": "Table of Contents",
   "title_sidebar": "Contents",
   "toc_cell": false,
   "toc_position": {},
   "toc_section_display": true,
   "toc_window_display": false
  },
  "widgets": {
   "application/vnd.jupyter.widget-state+json": {
    "0154a40e13174385b8b447ffd3483b35": {
     "model_module": "@jupyter-widgets/controls",
     "model_module_version": "1.5.0",
     "model_name": "HTMLModel",
     "state": {
      "_dom_classes": [],
      "_model_module": "@jupyter-widgets/controls",
      "_model_module_version": "1.5.0",
      "_model_name": "HTMLModel",
      "_view_count": null,
      "_view_module": "@jupyter-widgets/controls",
      "_view_module_version": "1.5.0",
      "_view_name": "HTMLView",
      "description": "",
      "description_tooltip": null,
      "layout": "IPY_MODEL_671eed6d434e4dd19130b6f05bbd26a8",
      "placeholder": "​",
      "style": "IPY_MODEL_bc33ac4b135f444b93fdd34cab0dea9a",
      "value": " 48.0/48.0 [00:00&lt;00:00, 1.30kB/s]"
     }
    },
    "03888af3132643a7927db2ba7a07bb56": {
     "model_module": "@jupyter-widgets/controls",
     "model_module_version": "1.5.0",
     "model_name": "HTMLModel",
     "state": {
      "_dom_classes": [],
      "_model_module": "@jupyter-widgets/controls",
      "_model_module_version": "1.5.0",
      "_model_name": "HTMLModel",
      "_view_count": null,
      "_view_module": "@jupyter-widgets/controls",
      "_view_module_version": "1.5.0",
      "_view_name": "HTMLView",
      "description": "",
      "description_tooltip": null,
      "layout": "IPY_MODEL_bc4e9caaafb84d6086f9ef3967a6c807",
      "placeholder": "​",
      "style": "IPY_MODEL_7944f309e1ca415cbecc62e1958e9f65",
      "value": "100%"
     }
    },
    "05e17f303bac4df284d94552b4df38d4": {
     "model_module": "@jupyter-widgets/base",
     "model_module_version": "1.2.0",
     "model_name": "LayoutModel",
     "state": {
      "_model_module": "@jupyter-widgets/base",
      "_model_module_version": "1.2.0",
      "_model_name": "LayoutModel",
      "_view_count": null,
      "_view_module": "@jupyter-widgets/base",
      "_view_module_version": "1.2.0",
      "_view_name": "LayoutView",
      "align_content": null,
      "align_items": null,
      "align_self": null,
      "border": null,
      "bottom": null,
      "display": null,
      "flex": null,
      "flex_flow": null,
      "grid_area": null,
      "grid_auto_columns": null,
      "grid_auto_flow": null,
      "grid_auto_rows": null,
      "grid_column": null,
      "grid_gap": null,
      "grid_row": null,
      "grid_template_areas": null,
      "grid_template_columns": null,
      "grid_template_rows": null,
      "height": null,
      "justify_content": null,
      "justify_items": null,
      "left": null,
      "margin": null,
      "max_height": null,
      "max_width": null,
      "min_height": null,
      "min_width": null,
      "object_fit": null,
      "object_position": null,
      "order": null,
      "overflow": null,
      "overflow_x": null,
      "overflow_y": null,
      "padding": null,
      "right": null,
      "top": null,
      "visibility": null,
      "width": null
     }
    },
    "07322811af0143989b8414c6ec937e22": {
     "model_module": "@jupyter-widgets/controls",
     "model_module_version": "1.5.0",
     "model_name": "HTMLModel",
     "state": {
      "_dom_classes": [],
      "_model_module": "@jupyter-widgets/controls",
      "_model_module_version": "1.5.0",
      "_model_name": "HTMLModel",
      "_view_count": null,
      "_view_module": "@jupyter-widgets/controls",
      "_view_module_version": "1.5.0",
      "_view_name": "HTMLView",
      "description": "",
      "description_tooltip": null,
      "layout": "IPY_MODEL_53cbe59bb82747beb9a3100f4b8fffee",
      "placeholder": "​",
      "style": "IPY_MODEL_c219d07f88bb48f88e9fc060c7aaa223",
      "value": "tokenizer_config.json: 100%"
     }
    },
    "09576660e2824f6195cbab0332488af0": {
     "model_module": "@jupyter-widgets/controls",
     "model_module_version": "1.5.0",
     "model_name": "FloatProgressModel",
     "state": {
      "_dom_classes": [],
      "_model_module": "@jupyter-widgets/controls",
      "_model_module_version": "1.5.0",
      "_model_name": "FloatProgressModel",
      "_view_count": null,
      "_view_module": "@jupyter-widgets/controls",
      "_view_module_version": "1.5.0",
      "_view_name": "ProgressView",
      "bar_style": "success",
      "description": "",
      "description_tooltip": null,
      "layout": "IPY_MODEL_ac903b515d554c21b22d5450b90a2861",
      "max": 570,
      "min": 0,
      "orientation": "horizontal",
      "style": "IPY_MODEL_f7224608aaff47118fc1e61fb6a0a275",
      "value": 570
     }
    },
    "162675dd01aa449e83b80616c4ca8aeb": {
     "model_module": "@jupyter-widgets/base",
     "model_module_version": "1.2.0",
     "model_name": "LayoutModel",
     "state": {
      "_model_module": "@jupyter-widgets/base",
      "_model_module_version": "1.2.0",
      "_model_name": "LayoutModel",
      "_view_count": null,
      "_view_module": "@jupyter-widgets/base",
      "_view_module_version": "1.2.0",
      "_view_name": "LayoutView",
      "align_content": null,
      "align_items": null,
      "align_self": null,
      "border": null,
      "bottom": null,
      "display": null,
      "flex": null,
      "flex_flow": null,
      "grid_area": null,
      "grid_auto_columns": null,
      "grid_auto_flow": null,
      "grid_auto_rows": null,
      "grid_column": null,
      "grid_gap": null,
      "grid_row": null,
      "grid_template_areas": null,
      "grid_template_columns": null,
      "grid_template_rows": null,
      "height": null,
      "justify_content": null,
      "justify_items": null,
      "left": null,
      "margin": null,
      "max_height": null,
      "max_width": null,
      "min_height": null,
      "min_width": null,
      "object_fit": null,
      "object_position": null,
      "order": null,
      "overflow": null,
      "overflow_x": null,
      "overflow_y": null,
      "padding": null,
      "right": null,
      "top": null,
      "visibility": null,
      "width": null
     }
    },
    "183d069c157a4f6590d95b4d767d06fe": {
     "model_module": "@jupyter-widgets/base",
     "model_module_version": "1.2.0",
     "model_name": "LayoutModel",
     "state": {
      "_model_module": "@jupyter-widgets/base",
      "_model_module_version": "1.2.0",
      "_model_name": "LayoutModel",
      "_view_count": null,
      "_view_module": "@jupyter-widgets/base",
      "_view_module_version": "1.2.0",
      "_view_name": "LayoutView",
      "align_content": null,
      "align_items": null,
      "align_self": null,
      "border": null,
      "bottom": null,
      "display": null,
      "flex": null,
      "flex_flow": null,
      "grid_area": null,
      "grid_auto_columns": null,
      "grid_auto_flow": null,
      "grid_auto_rows": null,
      "grid_column": null,
      "grid_gap": null,
      "grid_row": null,
      "grid_template_areas": null,
      "grid_template_columns": null,
      "grid_template_rows": null,
      "height": null,
      "justify_content": null,
      "justify_items": null,
      "left": null,
      "margin": null,
      "max_height": null,
      "max_width": null,
      "min_height": null,
      "min_width": null,
      "object_fit": null,
      "object_position": null,
      "order": null,
      "overflow": null,
      "overflow_x": null,
      "overflow_y": null,
      "padding": null,
      "right": null,
      "top": null,
      "visibility": null,
      "width": null
     }
    },
    "1b01c9f51f34432dab99dc45042b9dc9": {
     "model_module": "@jupyter-widgets/base",
     "model_module_version": "1.2.0",
     "model_name": "LayoutModel",
     "state": {
      "_model_module": "@jupyter-widgets/base",
      "_model_module_version": "1.2.0",
      "_model_name": "LayoutModel",
      "_view_count": null,
      "_view_module": "@jupyter-widgets/base",
      "_view_module_version": "1.2.0",
      "_view_name": "LayoutView",
      "align_content": null,
      "align_items": null,
      "align_self": null,
      "border": null,
      "bottom": null,
      "display": null,
      "flex": null,
      "flex_flow": null,
      "grid_area": null,
      "grid_auto_columns": null,
      "grid_auto_flow": null,
      "grid_auto_rows": null,
      "grid_column": null,
      "grid_gap": null,
      "grid_row": null,
      "grid_template_areas": null,
      "grid_template_columns": null,
      "grid_template_rows": null,
      "height": null,
      "justify_content": null,
      "justify_items": null,
      "left": null,
      "margin": null,
      "max_height": null,
      "max_width": null,
      "min_height": null,
      "min_width": null,
      "object_fit": null,
      "object_position": null,
      "order": null,
      "overflow": null,
      "overflow_x": null,
      "overflow_y": null,
      "padding": null,
      "right": null,
      "top": null,
      "visibility": null,
      "width": null
     }
    },
    "26a94381744f4a8eb607c6c2a2e4b9a5": {
     "model_module": "@jupyter-widgets/base",
     "model_module_version": "1.2.0",
     "model_name": "LayoutModel",
     "state": {
      "_model_module": "@jupyter-widgets/base",
      "_model_module_version": "1.2.0",
      "_model_name": "LayoutModel",
      "_view_count": null,
      "_view_module": "@jupyter-widgets/base",
      "_view_module_version": "1.2.0",
      "_view_name": "LayoutView",
      "align_content": null,
      "align_items": null,
      "align_self": null,
      "border": null,
      "bottom": null,
      "display": null,
      "flex": null,
      "flex_flow": null,
      "grid_area": null,
      "grid_auto_columns": null,
      "grid_auto_flow": null,
      "grid_auto_rows": null,
      "grid_column": null,
      "grid_gap": null,
      "grid_row": null,
      "grid_template_areas": null,
      "grid_template_columns": null,
      "grid_template_rows": null,
      "height": null,
      "justify_content": null,
      "justify_items": null,
      "left": null,
      "margin": null,
      "max_height": null,
      "max_width": null,
      "min_height": null,
      "min_width": null,
      "object_fit": null,
      "object_position": null,
      "order": null,
      "overflow": null,
      "overflow_x": null,
      "overflow_y": null,
      "padding": null,
      "right": null,
      "top": null,
      "visibility": null,
      "width": null
     }
    },
    "2cfc1ba78ac040f39d3347f38f7dd38b": {
     "model_module": "@jupyter-widgets/controls",
     "model_module_version": "1.5.0",
     "model_name": "HBoxModel",
     "state": {
      "_dom_classes": [],
      "_model_module": "@jupyter-widgets/controls",
      "_model_module_version": "1.5.0",
      "_model_name": "HBoxModel",
      "_view_count": null,
      "_view_module": "@jupyter-widgets/controls",
      "_view_module_version": "1.5.0",
      "_view_name": "HBoxView",
      "box_style": "",
      "children": [
       "IPY_MODEL_03888af3132643a7927db2ba7a07bb56",
       "IPY_MODEL_fe73479c227f4553b008390f6cc819f0",
       "IPY_MODEL_b7ba908c2de14d748c08bf845e7caae1"
      ],
      "layout": "IPY_MODEL_90e45cd0e7094f059e7f300e16e9476e"
     }
    },
    "2e2f024815fe490e80b239423db2ce32": {
     "model_module": "@jupyter-widgets/controls",
     "model_module_version": "1.5.0",
     "model_name": "HTMLModel",
     "state": {
      "_dom_classes": [],
      "_model_module": "@jupyter-widgets/controls",
      "_model_module_version": "1.5.0",
      "_model_name": "HTMLModel",
      "_view_count": null,
      "_view_module": "@jupyter-widgets/controls",
      "_view_module_version": "1.5.0",
      "_view_name": "HTMLView",
      "description": "",
      "description_tooltip": null,
      "layout": "IPY_MODEL_f5f13e4079b94c279f3ddb738759d29e",
      "placeholder": "​",
      "style": "IPY_MODEL_87341ef9808544619936d1d75e761215",
      "value": " 232k/232k [00:00&lt;00:00, 2.53MB/s]"
     }
    },
    "2e38d5edc31c4257a2ba68bdd7c7ccc1": {
     "model_module": "@jupyter-widgets/controls",
     "model_module_version": "1.5.0",
     "model_name": "HTMLModel",
     "state": {
      "_dom_classes": [],
      "_model_module": "@jupyter-widgets/controls",
      "_model_module_version": "1.5.0",
      "_model_name": "HTMLModel",
      "_view_count": null,
      "_view_module": "@jupyter-widgets/controls",
      "_view_module_version": "1.5.0",
      "_view_name": "HTMLView",
      "description": "",
      "description_tooltip": null,
      "layout": "IPY_MODEL_f48bb1c6d55e4c61809934fc75ed25d4",
      "placeholder": "​",
      "style": "IPY_MODEL_a763af0dfae644d1a6de24ea1f13e247",
      "value": "tokenizer.json: 100%"
     }
    },
    "312d79bd2fb04bfe88de67def4d6e55e": {
     "model_module": "@jupyter-widgets/controls",
     "model_module_version": "1.5.0",
     "model_name": "HBoxModel",
     "state": {
      "_dom_classes": [],
      "_model_module": "@jupyter-widgets/controls",
      "_model_module_version": "1.5.0",
      "_model_name": "HBoxModel",
      "_view_count": null,
      "_view_module": "@jupyter-widgets/controls",
      "_view_module_version": "1.5.0",
      "_view_name": "HBoxView",
      "box_style": "",
      "children": [
       "IPY_MODEL_3b428ca18e344bc5b20a9040763a590c",
       "IPY_MODEL_09576660e2824f6195cbab0332488af0",
       "IPY_MODEL_e339687df4c8499c95a947624d93dffd"
      ],
      "layout": "IPY_MODEL_bb8aef088d7b49229129d56a1a7dbb6f"
     }
    },
    "37ba7c87c42a4b6f8168b01fbdcdcea9": {
     "model_module": "@jupyter-widgets/controls",
     "model_module_version": "1.5.0",
     "model_name": "HTMLModel",
     "state": {
      "_dom_classes": [],
      "_model_module": "@jupyter-widgets/controls",
      "_model_module_version": "1.5.0",
      "_model_name": "HTMLModel",
      "_view_count": null,
      "_view_module": "@jupyter-widgets/controls",
      "_view_module_version": "1.5.0",
      "_view_name": "HTMLView",
      "description": "",
      "description_tooltip": null,
      "layout": "IPY_MODEL_05e17f303bac4df284d94552b4df38d4",
      "placeholder": "​",
      "style": "IPY_MODEL_f81f820f6a3b48f5a75a2ff42edd316a",
      "value": " 440M/440M [00:05&lt;00:00, 107MB/s]"
     }
    },
    "38d50f5fa43741bfabfb43cfb802a700": {
     "model_module": "@jupyter-widgets/controls",
     "model_module_version": "1.5.0",
     "model_name": "ProgressStyleModel",
     "state": {
      "_model_module": "@jupyter-widgets/controls",
      "_model_module_version": "1.5.0",
      "_model_name": "ProgressStyleModel",
      "_view_count": null,
      "_view_module": "@jupyter-widgets/base",
      "_view_module_version": "1.2.0",
      "_view_name": "StyleView",
      "bar_color": null,
      "description_width": ""
     }
    },
    "3b428ca18e344bc5b20a9040763a590c": {
     "model_module": "@jupyter-widgets/controls",
     "model_module_version": "1.5.0",
     "model_name": "HTMLModel",
     "state": {
      "_dom_classes": [],
      "_model_module": "@jupyter-widgets/controls",
      "_model_module_version": "1.5.0",
      "_model_name": "HTMLModel",
      "_view_count": null,
      "_view_module": "@jupyter-widgets/controls",
      "_view_module_version": "1.5.0",
      "_view_name": "HTMLView",
      "description": "",
      "description_tooltip": null,
      "layout": "IPY_MODEL_f278f5ab1e5c4d718cba6fb9c23f18c6",
      "placeholder": "​",
      "style": "IPY_MODEL_d6806837890a447e8eb33d85b8e47dd6",
      "value": "config.json: 100%"
     }
    },
    "520a36abd9c64265b438b21e0e7e0502": {
     "model_module": "@jupyter-widgets/controls",
     "model_module_version": "1.5.0",
     "model_name": "HBoxModel",
     "state": {
      "_dom_classes": [],
      "_model_module": "@jupyter-widgets/controls",
      "_model_module_version": "1.5.0",
      "_model_name": "HBoxModel",
      "_view_count": null,
      "_view_module": "@jupyter-widgets/controls",
      "_view_module_version": "1.5.0",
      "_view_name": "HBoxView",
      "box_style": "",
      "children": [
       "IPY_MODEL_2e38d5edc31c4257a2ba68bdd7c7ccc1",
       "IPY_MODEL_d1203fb2e28648a1bbdf4119e41047fa",
       "IPY_MODEL_c8540f3996a745fba185a25e92c48517"
      ],
      "layout": "IPY_MODEL_6780ce45051940969010a8c4e3ef0f11"
     }
    },
    "53cbe59bb82747beb9a3100f4b8fffee": {
     "model_module": "@jupyter-widgets/base",
     "model_module_version": "1.2.0",
     "model_name": "LayoutModel",
     "state": {
      "_model_module": "@jupyter-widgets/base",
      "_model_module_version": "1.2.0",
      "_model_name": "LayoutModel",
      "_view_count": null,
      "_view_module": "@jupyter-widgets/base",
      "_view_module_version": "1.2.0",
      "_view_name": "LayoutView",
      "align_content": null,
      "align_items": null,
      "align_self": null,
      "border": null,
      "bottom": null,
      "display": null,
      "flex": null,
      "flex_flow": null,
      "grid_area": null,
      "grid_auto_columns": null,
      "grid_auto_flow": null,
      "grid_auto_rows": null,
      "grid_column": null,
      "grid_gap": null,
      "grid_row": null,
      "grid_template_areas": null,
      "grid_template_columns": null,
      "grid_template_rows": null,
      "height": null,
      "justify_content": null,
      "justify_items": null,
      "left": null,
      "margin": null,
      "max_height": null,
      "max_width": null,
      "min_height": null,
      "min_width": null,
      "object_fit": null,
      "object_position": null,
      "order": null,
      "overflow": null,
      "overflow_x": null,
      "overflow_y": null,
      "padding": null,
      "right": null,
      "top": null,
      "visibility": null,
      "width": null
     }
    },
    "59490fd7a4424054b07611360e8409b4": {
     "model_module": "@jupyter-widgets/controls",
     "model_module_version": "1.5.0",
     "model_name": "HTMLModel",
     "state": {
      "_dom_classes": [],
      "_model_module": "@jupyter-widgets/controls",
      "_model_module_version": "1.5.0",
      "_model_name": "HTMLModel",
      "_view_count": null,
      "_view_module": "@jupyter-widgets/controls",
      "_view_module_version": "1.5.0",
      "_view_name": "HTMLView",
      "description": "",
      "description_tooltip": null,
      "layout": "IPY_MODEL_ea162845d0c348b4a51580d604a44075",
      "placeholder": "​",
      "style": "IPY_MODEL_ef6125570df8442187cfd11d2e6d60da",
      "value": "model.safetensors: 100%"
     }
    },
    "5acd161c998e450f861461eafd6361a1": {
     "model_module": "@jupyter-widgets/controls",
     "model_module_version": "1.5.0",
     "model_name": "DescriptionStyleModel",
     "state": {
      "_model_module": "@jupyter-widgets/controls",
      "_model_module_version": "1.5.0",
      "_model_name": "DescriptionStyleModel",
      "_view_count": null,
      "_view_module": "@jupyter-widgets/base",
      "_view_module_version": "1.2.0",
      "_view_name": "StyleView",
      "description_width": ""
     }
    },
    "5ea3873f62b34aeda9b5085cf56b6135": {
     "model_module": "@jupyter-widgets/base",
     "model_module_version": "1.2.0",
     "model_name": "LayoutModel",
     "state": {
      "_model_module": "@jupyter-widgets/base",
      "_model_module_version": "1.2.0",
      "_model_name": "LayoutModel",
      "_view_count": null,
      "_view_module": "@jupyter-widgets/base",
      "_view_module_version": "1.2.0",
      "_view_name": "LayoutView",
      "align_content": null,
      "align_items": null,
      "align_self": null,
      "border": null,
      "bottom": null,
      "display": null,
      "flex": null,
      "flex_flow": null,
      "grid_area": null,
      "grid_auto_columns": null,
      "grid_auto_flow": null,
      "grid_auto_rows": null,
      "grid_column": null,
      "grid_gap": null,
      "grid_row": null,
      "grid_template_areas": null,
      "grid_template_columns": null,
      "grid_template_rows": null,
      "height": null,
      "justify_content": null,
      "justify_items": null,
      "left": null,
      "margin": null,
      "max_height": null,
      "max_width": null,
      "min_height": null,
      "min_width": null,
      "object_fit": null,
      "object_position": null,
      "order": null,
      "overflow": null,
      "overflow_x": null,
      "overflow_y": null,
      "padding": null,
      "right": null,
      "top": null,
      "visibility": null,
      "width": null
     }
    },
    "5fd7dfb22f234c59b4b712fdab37078a": {
     "model_module": "@jupyter-widgets/base",
     "model_module_version": "1.2.0",
     "model_name": "LayoutModel",
     "state": {
      "_model_module": "@jupyter-widgets/base",
      "_model_module_version": "1.2.0",
      "_model_name": "LayoutModel",
      "_view_count": null,
      "_view_module": "@jupyter-widgets/base",
      "_view_module_version": "1.2.0",
      "_view_name": "LayoutView",
      "align_content": null,
      "align_items": null,
      "align_self": null,
      "border": null,
      "bottom": null,
      "display": null,
      "flex": null,
      "flex_flow": null,
      "grid_area": null,
      "grid_auto_columns": null,
      "grid_auto_flow": null,
      "grid_auto_rows": null,
      "grid_column": null,
      "grid_gap": null,
      "grid_row": null,
      "grid_template_areas": null,
      "grid_template_columns": null,
      "grid_template_rows": null,
      "height": null,
      "justify_content": null,
      "justify_items": null,
      "left": null,
      "margin": null,
      "max_height": null,
      "max_width": null,
      "min_height": null,
      "min_width": null,
      "object_fit": null,
      "object_position": null,
      "order": null,
      "overflow": null,
      "overflow_x": null,
      "overflow_y": null,
      "padding": null,
      "right": null,
      "top": null,
      "visibility": null,
      "width": null
     }
    },
    "658fab08656a443b8bddf3452d4777b1": {
     "model_module": "@jupyter-widgets/controls",
     "model_module_version": "1.5.0",
     "model_name": "DescriptionStyleModel",
     "state": {
      "_model_module": "@jupyter-widgets/controls",
      "_model_module_version": "1.5.0",
      "_model_name": "DescriptionStyleModel",
      "_view_count": null,
      "_view_module": "@jupyter-widgets/base",
      "_view_module_version": "1.2.0",
      "_view_name": "StyleView",
      "description_width": ""
     }
    },
    "671eed6d434e4dd19130b6f05bbd26a8": {
     "model_module": "@jupyter-widgets/base",
     "model_module_version": "1.2.0",
     "model_name": "LayoutModel",
     "state": {
      "_model_module": "@jupyter-widgets/base",
      "_model_module_version": "1.2.0",
      "_model_name": "LayoutModel",
      "_view_count": null,
      "_view_module": "@jupyter-widgets/base",
      "_view_module_version": "1.2.0",
      "_view_name": "LayoutView",
      "align_content": null,
      "align_items": null,
      "align_self": null,
      "border": null,
      "bottom": null,
      "display": null,
      "flex": null,
      "flex_flow": null,
      "grid_area": null,
      "grid_auto_columns": null,
      "grid_auto_flow": null,
      "grid_auto_rows": null,
      "grid_column": null,
      "grid_gap": null,
      "grid_row": null,
      "grid_template_areas": null,
      "grid_template_columns": null,
      "grid_template_rows": null,
      "height": null,
      "justify_content": null,
      "justify_items": null,
      "left": null,
      "margin": null,
      "max_height": null,
      "max_width": null,
      "min_height": null,
      "min_width": null,
      "object_fit": null,
      "object_position": null,
      "order": null,
      "overflow": null,
      "overflow_x": null,
      "overflow_y": null,
      "padding": null,
      "right": null,
      "top": null,
      "visibility": null,
      "width": null
     }
    },
    "6725dcaa83aa43ac971ea98e1996f7e0": {
     "model_module": "@jupyter-widgets/controls",
     "model_module_version": "1.5.0",
     "model_name": "HBoxModel",
     "state": {
      "_dom_classes": [],
      "_model_module": "@jupyter-widgets/controls",
      "_model_module_version": "1.5.0",
      "_model_name": "HBoxModel",
      "_view_count": null,
      "_view_module": "@jupyter-widgets/controls",
      "_view_module_version": "1.5.0",
      "_view_name": "HBoxView",
      "box_style": "",
      "children": [
       "IPY_MODEL_59490fd7a4424054b07611360e8409b4",
       "IPY_MODEL_e7f1b94584114327ac386f33ebf73420",
       "IPY_MODEL_37ba7c87c42a4b6f8168b01fbdcdcea9"
      ],
      "layout": "IPY_MODEL_183d069c157a4f6590d95b4d767d06fe"
     }
    },
    "6780ce45051940969010a8c4e3ef0f11": {
     "model_module": "@jupyter-widgets/base",
     "model_module_version": "1.2.0",
     "model_name": "LayoutModel",
     "state": {
      "_model_module": "@jupyter-widgets/base",
      "_model_module_version": "1.2.0",
      "_model_name": "LayoutModel",
      "_view_count": null,
      "_view_module": "@jupyter-widgets/base",
      "_view_module_version": "1.2.0",
      "_view_name": "LayoutView",
      "align_content": null,
      "align_items": null,
      "align_self": null,
      "border": null,
      "bottom": null,
      "display": null,
      "flex": null,
      "flex_flow": null,
      "grid_area": null,
      "grid_auto_columns": null,
      "grid_auto_flow": null,
      "grid_auto_rows": null,
      "grid_column": null,
      "grid_gap": null,
      "grid_row": null,
      "grid_template_areas": null,
      "grid_template_columns": null,
      "grid_template_rows": null,
      "height": null,
      "justify_content": null,
      "justify_items": null,
      "left": null,
      "margin": null,
      "max_height": null,
      "max_width": null,
      "min_height": null,
      "min_width": null,
      "object_fit": null,
      "object_position": null,
      "order": null,
      "overflow": null,
      "overflow_x": null,
      "overflow_y": null,
      "padding": null,
      "right": null,
      "top": null,
      "visibility": null,
      "width": null
     }
    },
    "7944f309e1ca415cbecc62e1958e9f65": {
     "model_module": "@jupyter-widgets/controls",
     "model_module_version": "1.5.0",
     "model_name": "DescriptionStyleModel",
     "state": {
      "_model_module": "@jupyter-widgets/controls",
      "_model_module_version": "1.5.0",
      "_model_name": "DescriptionStyleModel",
      "_view_count": null,
      "_view_module": "@jupyter-widgets/base",
      "_view_module_version": "1.2.0",
      "_view_name": "StyleView",
      "description_width": ""
     }
    },
    "794aa7537bb442c5912d8899e8a182fc": {
     "model_module": "@jupyter-widgets/controls",
     "model_module_version": "1.5.0",
     "model_name": "FloatProgressModel",
     "state": {
      "_dom_classes": [],
      "_model_module": "@jupyter-widgets/controls",
      "_model_module_version": "1.5.0",
      "_model_name": "FloatProgressModel",
      "_view_count": null,
      "_view_module": "@jupyter-widgets/controls",
      "_view_module_version": "1.5.0",
      "_view_name": "ProgressView",
      "bar_style": "success",
      "description": "",
      "description_tooltip": null,
      "layout": "IPY_MODEL_d6ac0af609094964be55cb0269272ef2",
      "max": 231508,
      "min": 0,
      "orientation": "horizontal",
      "style": "IPY_MODEL_9e0e0ddd3bb143258451826499e90c53",
      "value": 231508
     }
    },
    "7fd2ec6f4ff14ca790e6406631c676be": {
     "model_module": "@jupyter-widgets/controls",
     "model_module_version": "1.5.0",
     "model_name": "ProgressStyleModel",
     "state": {
      "_model_module": "@jupyter-widgets/controls",
      "_model_module_version": "1.5.0",
      "_model_name": "ProgressStyleModel",
      "_view_count": null,
      "_view_module": "@jupyter-widgets/base",
      "_view_module_version": "1.2.0",
      "_view_name": "StyleView",
      "bar_color": null,
      "description_width": ""
     }
    },
    "85f7963351d340d09965232f83f7e389": {
     "model_module": "@jupyter-widgets/base",
     "model_module_version": "1.2.0",
     "model_name": "LayoutModel",
     "state": {
      "_model_module": "@jupyter-widgets/base",
      "_model_module_version": "1.2.0",
      "_model_name": "LayoutModel",
      "_view_count": null,
      "_view_module": "@jupyter-widgets/base",
      "_view_module_version": "1.2.0",
      "_view_name": "LayoutView",
      "align_content": null,
      "align_items": null,
      "align_self": null,
      "border": null,
      "bottom": null,
      "display": null,
      "flex": null,
      "flex_flow": null,
      "grid_area": null,
      "grid_auto_columns": null,
      "grid_auto_flow": null,
      "grid_auto_rows": null,
      "grid_column": null,
      "grid_gap": null,
      "grid_row": null,
      "grid_template_areas": null,
      "grid_template_columns": null,
      "grid_template_rows": null,
      "height": null,
      "justify_content": null,
      "justify_items": null,
      "left": null,
      "margin": null,
      "max_height": null,
      "max_width": null,
      "min_height": null,
      "min_width": null,
      "object_fit": null,
      "object_position": null,
      "order": null,
      "overflow": null,
      "overflow_x": null,
      "overflow_y": null,
      "padding": null,
      "right": null,
      "top": null,
      "visibility": null,
      "width": null
     }
    },
    "87341ef9808544619936d1d75e761215": {
     "model_module": "@jupyter-widgets/controls",
     "model_module_version": "1.5.0",
     "model_name": "DescriptionStyleModel",
     "state": {
      "_model_module": "@jupyter-widgets/controls",
      "_model_module_version": "1.5.0",
      "_model_name": "DescriptionStyleModel",
      "_view_count": null,
      "_view_module": "@jupyter-widgets/base",
      "_view_module_version": "1.2.0",
      "_view_name": "StyleView",
      "description_width": ""
     }
    },
    "8ca89f05b49e4bf6a9d69928444908d4": {
     "model_module": "@jupyter-widgets/controls",
     "model_module_version": "1.5.0",
     "model_name": "HBoxModel",
     "state": {
      "_dom_classes": [],
      "_model_module": "@jupyter-widgets/controls",
      "_model_module_version": "1.5.0",
      "_model_name": "HBoxModel",
      "_view_count": null,
      "_view_module": "@jupyter-widgets/controls",
      "_view_module_version": "1.5.0",
      "_view_name": "HBoxView",
      "box_style": "",
      "children": [
       "IPY_MODEL_07322811af0143989b8414c6ec937e22",
       "IPY_MODEL_ca79cd99b3bf44ce9fac036980526f0f",
       "IPY_MODEL_0154a40e13174385b8b447ffd3483b35"
      ],
      "layout": "IPY_MODEL_b2275417fb8b4ddd86a4af5b82636f2e"
     }
    },
    "90e45cd0e7094f059e7f300e16e9476e": {
     "model_module": "@jupyter-widgets/base",
     "model_module_version": "1.2.0",
     "model_name": "LayoutModel",
     "state": {
      "_model_module": "@jupyter-widgets/base",
      "_model_module_version": "1.2.0",
      "_model_name": "LayoutModel",
      "_view_count": null,
      "_view_module": "@jupyter-widgets/base",
      "_view_module_version": "1.2.0",
      "_view_name": "LayoutView",
      "align_content": null,
      "align_items": null,
      "align_self": null,
      "border": null,
      "bottom": null,
      "display": null,
      "flex": null,
      "flex_flow": null,
      "grid_area": null,
      "grid_auto_columns": null,
      "grid_auto_flow": null,
      "grid_auto_rows": null,
      "grid_column": null,
      "grid_gap": null,
      "grid_row": null,
      "grid_template_areas": null,
      "grid_template_columns": null,
      "grid_template_rows": null,
      "height": null,
      "justify_content": null,
      "justify_items": null,
      "left": null,
      "margin": null,
      "max_height": null,
      "max_width": null,
      "min_height": null,
      "min_width": null,
      "object_fit": null,
      "object_position": null,
      "order": null,
      "overflow": null,
      "overflow_x": null,
      "overflow_y": null,
      "padding": null,
      "right": null,
      "top": null,
      "visibility": null,
      "width": null
     }
    },
    "923a14ddce934d3996953d26fde901d0": {
     "model_module": "@jupyter-widgets/base",
     "model_module_version": "1.2.0",
     "model_name": "LayoutModel",
     "state": {
      "_model_module": "@jupyter-widgets/base",
      "_model_module_version": "1.2.0",
      "_model_name": "LayoutModel",
      "_view_count": null,
      "_view_module": "@jupyter-widgets/base",
      "_view_module_version": "1.2.0",
      "_view_name": "LayoutView",
      "align_content": null,
      "align_items": null,
      "align_self": null,
      "border": null,
      "bottom": null,
      "display": null,
      "flex": null,
      "flex_flow": null,
      "grid_area": null,
      "grid_auto_columns": null,
      "grid_auto_flow": null,
      "grid_auto_rows": null,
      "grid_column": null,
      "grid_gap": null,
      "grid_row": null,
      "grid_template_areas": null,
      "grid_template_columns": null,
      "grid_template_rows": null,
      "height": null,
      "justify_content": null,
      "justify_items": null,
      "left": null,
      "margin": null,
      "max_height": null,
      "max_width": null,
      "min_height": null,
      "min_width": null,
      "object_fit": null,
      "object_position": null,
      "order": null,
      "overflow": null,
      "overflow_x": null,
      "overflow_y": null,
      "padding": null,
      "right": null,
      "top": null,
      "visibility": null,
      "width": null
     }
    },
    "968fec9bdfbe4e98ab465c905d349056": {
     "model_module": "@jupyter-widgets/controls",
     "model_module_version": "1.5.0",
     "model_name": "ProgressStyleModel",
     "state": {
      "_model_module": "@jupyter-widgets/controls",
      "_model_module_version": "1.5.0",
      "_model_name": "ProgressStyleModel",
      "_view_count": null,
      "_view_module": "@jupyter-widgets/base",
      "_view_module_version": "1.2.0",
      "_view_name": "StyleView",
      "bar_color": null,
      "description_width": ""
     }
    },
    "9e0e0ddd3bb143258451826499e90c53": {
     "model_module": "@jupyter-widgets/controls",
     "model_module_version": "1.5.0",
     "model_name": "ProgressStyleModel",
     "state": {
      "_model_module": "@jupyter-widgets/controls",
      "_model_module_version": "1.5.0",
      "_model_name": "ProgressStyleModel",
      "_view_count": null,
      "_view_module": "@jupyter-widgets/base",
      "_view_module_version": "1.2.0",
      "_view_name": "StyleView",
      "bar_color": null,
      "description_width": ""
     }
    },
    "a763af0dfae644d1a6de24ea1f13e247": {
     "model_module": "@jupyter-widgets/controls",
     "model_module_version": "1.5.0",
     "model_name": "DescriptionStyleModel",
     "state": {
      "_model_module": "@jupyter-widgets/controls",
      "_model_module_version": "1.5.0",
      "_model_name": "DescriptionStyleModel",
      "_view_count": null,
      "_view_module": "@jupyter-widgets/base",
      "_view_module_version": "1.2.0",
      "_view_name": "StyleView",
      "description_width": ""
     }
    },
    "ac903b515d554c21b22d5450b90a2861": {
     "model_module": "@jupyter-widgets/base",
     "model_module_version": "1.2.0",
     "model_name": "LayoutModel",
     "state": {
      "_model_module": "@jupyter-widgets/base",
      "_model_module_version": "1.2.0",
      "_model_name": "LayoutModel",
      "_view_count": null,
      "_view_module": "@jupyter-widgets/base",
      "_view_module_version": "1.2.0",
      "_view_name": "LayoutView",
      "align_content": null,
      "align_items": null,
      "align_self": null,
      "border": null,
      "bottom": null,
      "display": null,
      "flex": null,
      "flex_flow": null,
      "grid_area": null,
      "grid_auto_columns": null,
      "grid_auto_flow": null,
      "grid_auto_rows": null,
      "grid_column": null,
      "grid_gap": null,
      "grid_row": null,
      "grid_template_areas": null,
      "grid_template_columns": null,
      "grid_template_rows": null,
      "height": null,
      "justify_content": null,
      "justify_items": null,
      "left": null,
      "margin": null,
      "max_height": null,
      "max_width": null,
      "min_height": null,
      "min_width": null,
      "object_fit": null,
      "object_position": null,
      "order": null,
      "overflow": null,
      "overflow_x": null,
      "overflow_y": null,
      "padding": null,
      "right": null,
      "top": null,
      "visibility": null,
      "width": null
     }
    },
    "b2010f3e127142639f8f01a61d6f558d": {
     "model_module": "@jupyter-widgets/controls",
     "model_module_version": "1.5.0",
     "model_name": "ProgressStyleModel",
     "state": {
      "_model_module": "@jupyter-widgets/controls",
      "_model_module_version": "1.5.0",
      "_model_name": "ProgressStyleModel",
      "_view_count": null,
      "_view_module": "@jupyter-widgets/base",
      "_view_module_version": "1.2.0",
      "_view_name": "StyleView",
      "bar_color": null,
      "description_width": ""
     }
    },
    "b2275417fb8b4ddd86a4af5b82636f2e": {
     "model_module": "@jupyter-widgets/base",
     "model_module_version": "1.2.0",
     "model_name": "LayoutModel",
     "state": {
      "_model_module": "@jupyter-widgets/base",
      "_model_module_version": "1.2.0",
      "_model_name": "LayoutModel",
      "_view_count": null,
      "_view_module": "@jupyter-widgets/base",
      "_view_module_version": "1.2.0",
      "_view_name": "LayoutView",
      "align_content": null,
      "align_items": null,
      "align_self": null,
      "border": null,
      "bottom": null,
      "display": null,
      "flex": null,
      "flex_flow": null,
      "grid_area": null,
      "grid_auto_columns": null,
      "grid_auto_flow": null,
      "grid_auto_rows": null,
      "grid_column": null,
      "grid_gap": null,
      "grid_row": null,
      "grid_template_areas": null,
      "grid_template_columns": null,
      "grid_template_rows": null,
      "height": null,
      "justify_content": null,
      "justify_items": null,
      "left": null,
      "margin": null,
      "max_height": null,
      "max_width": null,
      "min_height": null,
      "min_width": null,
      "object_fit": null,
      "object_position": null,
      "order": null,
      "overflow": null,
      "overflow_x": null,
      "overflow_y": null,
      "padding": null,
      "right": null,
      "top": null,
      "visibility": null,
      "width": null
     }
    },
    "b7ba908c2de14d748c08bf845e7caae1": {
     "model_module": "@jupyter-widgets/controls",
     "model_module_version": "1.5.0",
     "model_name": "HTMLModel",
     "state": {
      "_dom_classes": [],
      "_model_module": "@jupyter-widgets/controls",
      "_model_module_version": "1.5.0",
      "_model_name": "HTMLModel",
      "_view_count": null,
      "_view_module": "@jupyter-widgets/controls",
      "_view_module_version": "1.5.0",
      "_view_name": "HTMLView",
      "description": "",
      "description_tooltip": null,
      "layout": "IPY_MODEL_1b01c9f51f34432dab99dc45042b9dc9",
      "placeholder": "​",
      "style": "IPY_MODEL_f8155d4a329348ed9f281bc80b12cc14",
      "value": " 1592/1592 [1:14:11&lt;00:00,  2.80s/it]"
     }
    },
    "b8cddf8f4a4c4999aa8a31250dc2ad71": {
     "model_module": "@jupyter-widgets/controls",
     "model_module_version": "1.5.0",
     "model_name": "DescriptionStyleModel",
     "state": {
      "_model_module": "@jupyter-widgets/controls",
      "_model_module_version": "1.5.0",
      "_model_name": "DescriptionStyleModel",
      "_view_count": null,
      "_view_module": "@jupyter-widgets/base",
      "_view_module_version": "1.2.0",
      "_view_name": "StyleView",
      "description_width": ""
     }
    },
    "bb8aef088d7b49229129d56a1a7dbb6f": {
     "model_module": "@jupyter-widgets/base",
     "model_module_version": "1.2.0",
     "model_name": "LayoutModel",
     "state": {
      "_model_module": "@jupyter-widgets/base",
      "_model_module_version": "1.2.0",
      "_model_name": "LayoutModel",
      "_view_count": null,
      "_view_module": "@jupyter-widgets/base",
      "_view_module_version": "1.2.0",
      "_view_name": "LayoutView",
      "align_content": null,
      "align_items": null,
      "align_self": null,
      "border": null,
      "bottom": null,
      "display": null,
      "flex": null,
      "flex_flow": null,
      "grid_area": null,
      "grid_auto_columns": null,
      "grid_auto_flow": null,
      "grid_auto_rows": null,
      "grid_column": null,
      "grid_gap": null,
      "grid_row": null,
      "grid_template_areas": null,
      "grid_template_columns": null,
      "grid_template_rows": null,
      "height": null,
      "justify_content": null,
      "justify_items": null,
      "left": null,
      "margin": null,
      "max_height": null,
      "max_width": null,
      "min_height": null,
      "min_width": null,
      "object_fit": null,
      "object_position": null,
      "order": null,
      "overflow": null,
      "overflow_x": null,
      "overflow_y": null,
      "padding": null,
      "right": null,
      "top": null,
      "visibility": null,
      "width": null
     }
    },
    "bc33ac4b135f444b93fdd34cab0dea9a": {
     "model_module": "@jupyter-widgets/controls",
     "model_module_version": "1.5.0",
     "model_name": "DescriptionStyleModel",
     "state": {
      "_model_module": "@jupyter-widgets/controls",
      "_model_module_version": "1.5.0",
      "_model_name": "DescriptionStyleModel",
      "_view_count": null,
      "_view_module": "@jupyter-widgets/base",
      "_view_module_version": "1.2.0",
      "_view_name": "StyleView",
      "description_width": ""
     }
    },
    "bc4e9caaafb84d6086f9ef3967a6c807": {
     "model_module": "@jupyter-widgets/base",
     "model_module_version": "1.2.0",
     "model_name": "LayoutModel",
     "state": {
      "_model_module": "@jupyter-widgets/base",
      "_model_module_version": "1.2.0",
      "_model_name": "LayoutModel",
      "_view_count": null,
      "_view_module": "@jupyter-widgets/base",
      "_view_module_version": "1.2.0",
      "_view_name": "LayoutView",
      "align_content": null,
      "align_items": null,
      "align_self": null,
      "border": null,
      "bottom": null,
      "display": null,
      "flex": null,
      "flex_flow": null,
      "grid_area": null,
      "grid_auto_columns": null,
      "grid_auto_flow": null,
      "grid_auto_rows": null,
      "grid_column": null,
      "grid_gap": null,
      "grid_row": null,
      "grid_template_areas": null,
      "grid_template_columns": null,
      "grid_template_rows": null,
      "height": null,
      "justify_content": null,
      "justify_items": null,
      "left": null,
      "margin": null,
      "max_height": null,
      "max_width": null,
      "min_height": null,
      "min_width": null,
      "object_fit": null,
      "object_position": null,
      "order": null,
      "overflow": null,
      "overflow_x": null,
      "overflow_y": null,
      "padding": null,
      "right": null,
      "top": null,
      "visibility": null,
      "width": null
     }
    },
    "c219d07f88bb48f88e9fc060c7aaa223": {
     "model_module": "@jupyter-widgets/controls",
     "model_module_version": "1.5.0",
     "model_name": "DescriptionStyleModel",
     "state": {
      "_model_module": "@jupyter-widgets/controls",
      "_model_module_version": "1.5.0",
      "_model_name": "DescriptionStyleModel",
      "_view_count": null,
      "_view_module": "@jupyter-widgets/base",
      "_view_module_version": "1.2.0",
      "_view_name": "StyleView",
      "description_width": ""
     }
    },
    "c706922815bb4a0ea5a6407e7c9ce7eb": {
     "model_module": "@jupyter-widgets/controls",
     "model_module_version": "1.5.0",
     "model_name": "HTMLModel",
     "state": {
      "_dom_classes": [],
      "_model_module": "@jupyter-widgets/controls",
      "_model_module_version": "1.5.0",
      "_model_name": "HTMLModel",
      "_view_count": null,
      "_view_module": "@jupyter-widgets/controls",
      "_view_module_version": "1.5.0",
      "_view_name": "HTMLView",
      "description": "",
      "description_tooltip": null,
      "layout": "IPY_MODEL_ca27fdab165c466ea1bf173729c2efca",
      "placeholder": "​",
      "style": "IPY_MODEL_658fab08656a443b8bddf3452d4777b1",
      "value": "vocab.txt: 100%"
     }
    },
    "c8540f3996a745fba185a25e92c48517": {
     "model_module": "@jupyter-widgets/controls",
     "model_module_version": "1.5.0",
     "model_name": "HTMLModel",
     "state": {
      "_dom_classes": [],
      "_model_module": "@jupyter-widgets/controls",
      "_model_module_version": "1.5.0",
      "_model_name": "HTMLModel",
      "_view_count": null,
      "_view_module": "@jupyter-widgets/controls",
      "_view_module_version": "1.5.0",
      "_view_name": "HTMLView",
      "description": "",
      "description_tooltip": null,
      "layout": "IPY_MODEL_5ea3873f62b34aeda9b5085cf56b6135",
      "placeholder": "​",
      "style": "IPY_MODEL_5acd161c998e450f861461eafd6361a1",
      "value": " 466k/466k [00:00&lt;00:00, 6.54MB/s]"
     }
    },
    "ca27fdab165c466ea1bf173729c2efca": {
     "model_module": "@jupyter-widgets/base",
     "model_module_version": "1.2.0",
     "model_name": "LayoutModel",
     "state": {
      "_model_module": "@jupyter-widgets/base",
      "_model_module_version": "1.2.0",
      "_model_name": "LayoutModel",
      "_view_count": null,
      "_view_module": "@jupyter-widgets/base",
      "_view_module_version": "1.2.0",
      "_view_name": "LayoutView",
      "align_content": null,
      "align_items": null,
      "align_self": null,
      "border": null,
      "bottom": null,
      "display": null,
      "flex": null,
      "flex_flow": null,
      "grid_area": null,
      "grid_auto_columns": null,
      "grid_auto_flow": null,
      "grid_auto_rows": null,
      "grid_column": null,
      "grid_gap": null,
      "grid_row": null,
      "grid_template_areas": null,
      "grid_template_columns": null,
      "grid_template_rows": null,
      "height": null,
      "justify_content": null,
      "justify_items": null,
      "left": null,
      "margin": null,
      "max_height": null,
      "max_width": null,
      "min_height": null,
      "min_width": null,
      "object_fit": null,
      "object_position": null,
      "order": null,
      "overflow": null,
      "overflow_x": null,
      "overflow_y": null,
      "padding": null,
      "right": null,
      "top": null,
      "visibility": null,
      "width": null
     }
    },
    "ca79cd99b3bf44ce9fac036980526f0f": {
     "model_module": "@jupyter-widgets/controls",
     "model_module_version": "1.5.0",
     "model_name": "FloatProgressModel",
     "state": {
      "_dom_classes": [],
      "_model_module": "@jupyter-widgets/controls",
      "_model_module_version": "1.5.0",
      "_model_name": "FloatProgressModel",
      "_view_count": null,
      "_view_module": "@jupyter-widgets/controls",
      "_view_module_version": "1.5.0",
      "_view_name": "ProgressView",
      "bar_style": "success",
      "description": "",
      "description_tooltip": null,
      "layout": "IPY_MODEL_85f7963351d340d09965232f83f7e389",
      "max": 48,
      "min": 0,
      "orientation": "horizontal",
      "style": "IPY_MODEL_968fec9bdfbe4e98ab465c905d349056",
      "value": 48
     }
    },
    "d1203fb2e28648a1bbdf4119e41047fa": {
     "model_module": "@jupyter-widgets/controls",
     "model_module_version": "1.5.0",
     "model_name": "FloatProgressModel",
     "state": {
      "_dom_classes": [],
      "_model_module": "@jupyter-widgets/controls",
      "_model_module_version": "1.5.0",
      "_model_name": "FloatProgressModel",
      "_view_count": null,
      "_view_module": "@jupyter-widgets/controls",
      "_view_module_version": "1.5.0",
      "_view_name": "ProgressView",
      "bar_style": "success",
      "description": "",
      "description_tooltip": null,
      "layout": "IPY_MODEL_26a94381744f4a8eb607c6c2a2e4b9a5",
      "max": 466062,
      "min": 0,
      "orientation": "horizontal",
      "style": "IPY_MODEL_b2010f3e127142639f8f01a61d6f558d",
      "value": 466062
     }
    },
    "d6806837890a447e8eb33d85b8e47dd6": {
     "model_module": "@jupyter-widgets/controls",
     "model_module_version": "1.5.0",
     "model_name": "DescriptionStyleModel",
     "state": {
      "_model_module": "@jupyter-widgets/controls",
      "_model_module_version": "1.5.0",
      "_model_name": "DescriptionStyleModel",
      "_view_count": null,
      "_view_module": "@jupyter-widgets/base",
      "_view_module_version": "1.2.0",
      "_view_name": "StyleView",
      "description_width": ""
     }
    },
    "d6ac0af609094964be55cb0269272ef2": {
     "model_module": "@jupyter-widgets/base",
     "model_module_version": "1.2.0",
     "model_name": "LayoutModel",
     "state": {
      "_model_module": "@jupyter-widgets/base",
      "_model_module_version": "1.2.0",
      "_model_name": "LayoutModel",
      "_view_count": null,
      "_view_module": "@jupyter-widgets/base",
      "_view_module_version": "1.2.0",
      "_view_name": "LayoutView",
      "align_content": null,
      "align_items": null,
      "align_self": null,
      "border": null,
      "bottom": null,
      "display": null,
      "flex": null,
      "flex_flow": null,
      "grid_area": null,
      "grid_auto_columns": null,
      "grid_auto_flow": null,
      "grid_auto_rows": null,
      "grid_column": null,
      "grid_gap": null,
      "grid_row": null,
      "grid_template_areas": null,
      "grid_template_columns": null,
      "grid_template_rows": null,
      "height": null,
      "justify_content": null,
      "justify_items": null,
      "left": null,
      "margin": null,
      "max_height": null,
      "max_width": null,
      "min_height": null,
      "min_width": null,
      "object_fit": null,
      "object_position": null,
      "order": null,
      "overflow": null,
      "overflow_x": null,
      "overflow_y": null,
      "padding": null,
      "right": null,
      "top": null,
      "visibility": null,
      "width": null
     }
    },
    "e339687df4c8499c95a947624d93dffd": {
     "model_module": "@jupyter-widgets/controls",
     "model_module_version": "1.5.0",
     "model_name": "HTMLModel",
     "state": {
      "_dom_classes": [],
      "_model_module": "@jupyter-widgets/controls",
      "_model_module_version": "1.5.0",
      "_model_name": "HTMLModel",
      "_view_count": null,
      "_view_module": "@jupyter-widgets/controls",
      "_view_module_version": "1.5.0",
      "_view_name": "HTMLView",
      "description": "",
      "description_tooltip": null,
      "layout": "IPY_MODEL_162675dd01aa449e83b80616c4ca8aeb",
      "placeholder": "​",
      "style": "IPY_MODEL_b8cddf8f4a4c4999aa8a31250dc2ad71",
      "value": " 570/570 [00:00&lt;00:00, 19.2kB/s]"
     }
    },
    "e7f1b94584114327ac386f33ebf73420": {
     "model_module": "@jupyter-widgets/controls",
     "model_module_version": "1.5.0",
     "model_name": "FloatProgressModel",
     "state": {
      "_dom_classes": [],
      "_model_module": "@jupyter-widgets/controls",
      "_model_module_version": "1.5.0",
      "_model_name": "FloatProgressModel",
      "_view_count": null,
      "_view_module": "@jupyter-widgets/controls",
      "_view_module_version": "1.5.0",
      "_view_name": "ProgressView",
      "bar_style": "success",
      "description": "",
      "description_tooltip": null,
      "layout": "IPY_MODEL_ebbced99bb3c49c38a6896a6d84fb498",
      "max": 440449768,
      "min": 0,
      "orientation": "horizontal",
      "style": "IPY_MODEL_38d50f5fa43741bfabfb43cfb802a700",
      "value": 440449768
     }
    },
    "ea162845d0c348b4a51580d604a44075": {
     "model_module": "@jupyter-widgets/base",
     "model_module_version": "1.2.0",
     "model_name": "LayoutModel",
     "state": {
      "_model_module": "@jupyter-widgets/base",
      "_model_module_version": "1.2.0",
      "_model_name": "LayoutModel",
      "_view_count": null,
      "_view_module": "@jupyter-widgets/base",
      "_view_module_version": "1.2.0",
      "_view_name": "LayoutView",
      "align_content": null,
      "align_items": null,
      "align_self": null,
      "border": null,
      "bottom": null,
      "display": null,
      "flex": null,
      "flex_flow": null,
      "grid_area": null,
      "grid_auto_columns": null,
      "grid_auto_flow": null,
      "grid_auto_rows": null,
      "grid_column": null,
      "grid_gap": null,
      "grid_row": null,
      "grid_template_areas": null,
      "grid_template_columns": null,
      "grid_template_rows": null,
      "height": null,
      "justify_content": null,
      "justify_items": null,
      "left": null,
      "margin": null,
      "max_height": null,
      "max_width": null,
      "min_height": null,
      "min_width": null,
      "object_fit": null,
      "object_position": null,
      "order": null,
      "overflow": null,
      "overflow_x": null,
      "overflow_y": null,
      "padding": null,
      "right": null,
      "top": null,
      "visibility": null,
      "width": null
     }
    },
    "ebbced99bb3c49c38a6896a6d84fb498": {
     "model_module": "@jupyter-widgets/base",
     "model_module_version": "1.2.0",
     "model_name": "LayoutModel",
     "state": {
      "_model_module": "@jupyter-widgets/base",
      "_model_module_version": "1.2.0",
      "_model_name": "LayoutModel",
      "_view_count": null,
      "_view_module": "@jupyter-widgets/base",
      "_view_module_version": "1.2.0",
      "_view_name": "LayoutView",
      "align_content": null,
      "align_items": null,
      "align_self": null,
      "border": null,
      "bottom": null,
      "display": null,
      "flex": null,
      "flex_flow": null,
      "grid_area": null,
      "grid_auto_columns": null,
      "grid_auto_flow": null,
      "grid_auto_rows": null,
      "grid_column": null,
      "grid_gap": null,
      "grid_row": null,
      "grid_template_areas": null,
      "grid_template_columns": null,
      "grid_template_rows": null,
      "height": null,
      "justify_content": null,
      "justify_items": null,
      "left": null,
      "margin": null,
      "max_height": null,
      "max_width": null,
      "min_height": null,
      "min_width": null,
      "object_fit": null,
      "object_position": null,
      "order": null,
      "overflow": null,
      "overflow_x": null,
      "overflow_y": null,
      "padding": null,
      "right": null,
      "top": null,
      "visibility": null,
      "width": null
     }
    },
    "ef6125570df8442187cfd11d2e6d60da": {
     "model_module": "@jupyter-widgets/controls",
     "model_module_version": "1.5.0",
     "model_name": "DescriptionStyleModel",
     "state": {
      "_model_module": "@jupyter-widgets/controls",
      "_model_module_version": "1.5.0",
      "_model_name": "DescriptionStyleModel",
      "_view_count": null,
      "_view_module": "@jupyter-widgets/base",
      "_view_module_version": "1.2.0",
      "_view_name": "StyleView",
      "description_width": ""
     }
    },
    "f278f5ab1e5c4d718cba6fb9c23f18c6": {
     "model_module": "@jupyter-widgets/base",
     "model_module_version": "1.2.0",
     "model_name": "LayoutModel",
     "state": {
      "_model_module": "@jupyter-widgets/base",
      "_model_module_version": "1.2.0",
      "_model_name": "LayoutModel",
      "_view_count": null,
      "_view_module": "@jupyter-widgets/base",
      "_view_module_version": "1.2.0",
      "_view_name": "LayoutView",
      "align_content": null,
      "align_items": null,
      "align_self": null,
      "border": null,
      "bottom": null,
      "display": null,
      "flex": null,
      "flex_flow": null,
      "grid_area": null,
      "grid_auto_columns": null,
      "grid_auto_flow": null,
      "grid_auto_rows": null,
      "grid_column": null,
      "grid_gap": null,
      "grid_row": null,
      "grid_template_areas": null,
      "grid_template_columns": null,
      "grid_template_rows": null,
      "height": null,
      "justify_content": null,
      "justify_items": null,
      "left": null,
      "margin": null,
      "max_height": null,
      "max_width": null,
      "min_height": null,
      "min_width": null,
      "object_fit": null,
      "object_position": null,
      "order": null,
      "overflow": null,
      "overflow_x": null,
      "overflow_y": null,
      "padding": null,
      "right": null,
      "top": null,
      "visibility": null,
      "width": null
     }
    },
    "f48bb1c6d55e4c61809934fc75ed25d4": {
     "model_module": "@jupyter-widgets/base",
     "model_module_version": "1.2.0",
     "model_name": "LayoutModel",
     "state": {
      "_model_module": "@jupyter-widgets/base",
      "_model_module_version": "1.2.0",
      "_model_name": "LayoutModel",
      "_view_count": null,
      "_view_module": "@jupyter-widgets/base",
      "_view_module_version": "1.2.0",
      "_view_name": "LayoutView",
      "align_content": null,
      "align_items": null,
      "align_self": null,
      "border": null,
      "bottom": null,
      "display": null,
      "flex": null,
      "flex_flow": null,
      "grid_area": null,
      "grid_auto_columns": null,
      "grid_auto_flow": null,
      "grid_auto_rows": null,
      "grid_column": null,
      "grid_gap": null,
      "grid_row": null,
      "grid_template_areas": null,
      "grid_template_columns": null,
      "grid_template_rows": null,
      "height": null,
      "justify_content": null,
      "justify_items": null,
      "left": null,
      "margin": null,
      "max_height": null,
      "max_width": null,
      "min_height": null,
      "min_width": null,
      "object_fit": null,
      "object_position": null,
      "order": null,
      "overflow": null,
      "overflow_x": null,
      "overflow_y": null,
      "padding": null,
      "right": null,
      "top": null,
      "visibility": null,
      "width": null
     }
    },
    "f4e0101effb342d6acc4185a366c037b": {
     "model_module": "@jupyter-widgets/controls",
     "model_module_version": "1.5.0",
     "model_name": "HBoxModel",
     "state": {
      "_dom_classes": [],
      "_model_module": "@jupyter-widgets/controls",
      "_model_module_version": "1.5.0",
      "_model_name": "HBoxModel",
      "_view_count": null,
      "_view_module": "@jupyter-widgets/controls",
      "_view_module_version": "1.5.0",
      "_view_name": "HBoxView",
      "box_style": "",
      "children": [
       "IPY_MODEL_c706922815bb4a0ea5a6407e7c9ce7eb",
       "IPY_MODEL_794aa7537bb442c5912d8899e8a182fc",
       "IPY_MODEL_2e2f024815fe490e80b239423db2ce32"
      ],
      "layout": "IPY_MODEL_5fd7dfb22f234c59b4b712fdab37078a"
     }
    },
    "f5f13e4079b94c279f3ddb738759d29e": {
     "model_module": "@jupyter-widgets/base",
     "model_module_version": "1.2.0",
     "model_name": "LayoutModel",
     "state": {
      "_model_module": "@jupyter-widgets/base",
      "_model_module_version": "1.2.0",
      "_model_name": "LayoutModel",
      "_view_count": null,
      "_view_module": "@jupyter-widgets/base",
      "_view_module_version": "1.2.0",
      "_view_name": "LayoutView",
      "align_content": null,
      "align_items": null,
      "align_self": null,
      "border": null,
      "bottom": null,
      "display": null,
      "flex": null,
      "flex_flow": null,
      "grid_area": null,
      "grid_auto_columns": null,
      "grid_auto_flow": null,
      "grid_auto_rows": null,
      "grid_column": null,
      "grid_gap": null,
      "grid_row": null,
      "grid_template_areas": null,
      "grid_template_columns": null,
      "grid_template_rows": null,
      "height": null,
      "justify_content": null,
      "justify_items": null,
      "left": null,
      "margin": null,
      "max_height": null,
      "max_width": null,
      "min_height": null,
      "min_width": null,
      "object_fit": null,
      "object_position": null,
      "order": null,
      "overflow": null,
      "overflow_x": null,
      "overflow_y": null,
      "padding": null,
      "right": null,
      "top": null,
      "visibility": null,
      "width": null
     }
    },
    "f7224608aaff47118fc1e61fb6a0a275": {
     "model_module": "@jupyter-widgets/controls",
     "model_module_version": "1.5.0",
     "model_name": "ProgressStyleModel",
     "state": {
      "_model_module": "@jupyter-widgets/controls",
      "_model_module_version": "1.5.0",
      "_model_name": "ProgressStyleModel",
      "_view_count": null,
      "_view_module": "@jupyter-widgets/base",
      "_view_module_version": "1.2.0",
      "_view_name": "StyleView",
      "bar_color": null,
      "description_width": ""
     }
    },
    "f8155d4a329348ed9f281bc80b12cc14": {
     "model_module": "@jupyter-widgets/controls",
     "model_module_version": "1.5.0",
     "model_name": "DescriptionStyleModel",
     "state": {
      "_model_module": "@jupyter-widgets/controls",
      "_model_module_version": "1.5.0",
      "_model_name": "DescriptionStyleModel",
      "_view_count": null,
      "_view_module": "@jupyter-widgets/base",
      "_view_module_version": "1.2.0",
      "_view_name": "StyleView",
      "description_width": ""
     }
    },
    "f81f820f6a3b48f5a75a2ff42edd316a": {
     "model_module": "@jupyter-widgets/controls",
     "model_module_version": "1.5.0",
     "model_name": "DescriptionStyleModel",
     "state": {
      "_model_module": "@jupyter-widgets/controls",
      "_model_module_version": "1.5.0",
      "_model_name": "DescriptionStyleModel",
      "_view_count": null,
      "_view_module": "@jupyter-widgets/base",
      "_view_module_version": "1.2.0",
      "_view_name": "StyleView",
      "description_width": ""
     }
    },
    "fe73479c227f4553b008390f6cc819f0": {
     "model_module": "@jupyter-widgets/controls",
     "model_module_version": "1.5.0",
     "model_name": "FloatProgressModel",
     "state": {
      "_dom_classes": [],
      "_model_module": "@jupyter-widgets/controls",
      "_model_module_version": "1.5.0",
      "_model_name": "FloatProgressModel",
      "_view_count": null,
      "_view_module": "@jupyter-widgets/controls",
      "_view_module_version": "1.5.0",
      "_view_name": "ProgressView",
      "bar_style": "success",
      "description": "",
      "description_tooltip": null,
      "layout": "IPY_MODEL_923a14ddce934d3996953d26fde901d0",
      "max": 1592,
      "min": 0,
      "orientation": "horizontal",
      "style": "IPY_MODEL_7fd2ec6f4ff14ca790e6406631c676be",
      "value": 1592
     }
    }
   }
  }
 },
 "nbformat": 4,
 "nbformat_minor": 5
}
